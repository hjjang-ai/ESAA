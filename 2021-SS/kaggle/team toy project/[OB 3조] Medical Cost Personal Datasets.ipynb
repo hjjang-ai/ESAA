{
 "cells": [
  {
   "cell_type": "markdown",
   "id": "25ba1400",
   "metadata": {},
   "source": [
    "# Medical Cost Personal Datasets"
   ]
  },
  {
   "cell_type": "code",
   "execution_count": 39,
   "id": "c61753b4",
   "metadata": {},
   "outputs": [],
   "source": [
    "import numpy as np \n",
    "import pandas as pd \n",
    "import os\n",
    "import matplotlib.pyplot as pl\n",
    "import seaborn as sns\n",
    "import warnings\n",
    "warnings.filterwarnings('ignore')\n",
    "data = pd.read_csv('insurance.csv')"
   ]
  },
  {
   "cell_type": "code",
   "execution_count": 2,
   "id": "17f6fb3b",
   "metadata": {},
   "outputs": [
    {
     "data": {
      "text/html": [
       "<div>\n",
       "<style scoped>\n",
       "    .dataframe tbody tr th:only-of-type {\n",
       "        vertical-align: middle;\n",
       "    }\n",
       "\n",
       "    .dataframe tbody tr th {\n",
       "        vertical-align: top;\n",
       "    }\n",
       "\n",
       "    .dataframe thead th {\n",
       "        text-align: right;\n",
       "    }\n",
       "</style>\n",
       "<table border=\"1\" class=\"dataframe\">\n",
       "  <thead>\n",
       "    <tr style=\"text-align: right;\">\n",
       "      <th></th>\n",
       "      <th>age</th>\n",
       "      <th>sex</th>\n",
       "      <th>bmi</th>\n",
       "      <th>children</th>\n",
       "      <th>smoker</th>\n",
       "      <th>region</th>\n",
       "      <th>charges</th>\n",
       "    </tr>\n",
       "  </thead>\n",
       "  <tbody>\n",
       "    <tr>\n",
       "      <th>0</th>\n",
       "      <td>19</td>\n",
       "      <td>female</td>\n",
       "      <td>27.900</td>\n",
       "      <td>0</td>\n",
       "      <td>yes</td>\n",
       "      <td>southwest</td>\n",
       "      <td>16884.92400</td>\n",
       "    </tr>\n",
       "    <tr>\n",
       "      <th>1</th>\n",
       "      <td>18</td>\n",
       "      <td>male</td>\n",
       "      <td>33.770</td>\n",
       "      <td>1</td>\n",
       "      <td>no</td>\n",
       "      <td>southeast</td>\n",
       "      <td>1725.55230</td>\n",
       "    </tr>\n",
       "    <tr>\n",
       "      <th>2</th>\n",
       "      <td>28</td>\n",
       "      <td>male</td>\n",
       "      <td>33.000</td>\n",
       "      <td>3</td>\n",
       "      <td>no</td>\n",
       "      <td>southeast</td>\n",
       "      <td>4449.46200</td>\n",
       "    </tr>\n",
       "    <tr>\n",
       "      <th>3</th>\n",
       "      <td>33</td>\n",
       "      <td>male</td>\n",
       "      <td>22.705</td>\n",
       "      <td>0</td>\n",
       "      <td>no</td>\n",
       "      <td>northwest</td>\n",
       "      <td>21984.47061</td>\n",
       "    </tr>\n",
       "    <tr>\n",
       "      <th>4</th>\n",
       "      <td>32</td>\n",
       "      <td>male</td>\n",
       "      <td>28.880</td>\n",
       "      <td>0</td>\n",
       "      <td>no</td>\n",
       "      <td>northwest</td>\n",
       "      <td>3866.85520</td>\n",
       "    </tr>\n",
       "    <tr>\n",
       "      <th>...</th>\n",
       "      <td>...</td>\n",
       "      <td>...</td>\n",
       "      <td>...</td>\n",
       "      <td>...</td>\n",
       "      <td>...</td>\n",
       "      <td>...</td>\n",
       "      <td>...</td>\n",
       "    </tr>\n",
       "    <tr>\n",
       "      <th>1333</th>\n",
       "      <td>50</td>\n",
       "      <td>male</td>\n",
       "      <td>30.970</td>\n",
       "      <td>3</td>\n",
       "      <td>no</td>\n",
       "      <td>northwest</td>\n",
       "      <td>10600.54830</td>\n",
       "    </tr>\n",
       "    <tr>\n",
       "      <th>1334</th>\n",
       "      <td>18</td>\n",
       "      <td>female</td>\n",
       "      <td>31.920</td>\n",
       "      <td>0</td>\n",
       "      <td>no</td>\n",
       "      <td>northeast</td>\n",
       "      <td>2205.98080</td>\n",
       "    </tr>\n",
       "    <tr>\n",
       "      <th>1335</th>\n",
       "      <td>18</td>\n",
       "      <td>female</td>\n",
       "      <td>36.850</td>\n",
       "      <td>0</td>\n",
       "      <td>no</td>\n",
       "      <td>southeast</td>\n",
       "      <td>1629.83350</td>\n",
       "    </tr>\n",
       "    <tr>\n",
       "      <th>1336</th>\n",
       "      <td>21</td>\n",
       "      <td>female</td>\n",
       "      <td>25.800</td>\n",
       "      <td>0</td>\n",
       "      <td>no</td>\n",
       "      <td>southwest</td>\n",
       "      <td>2007.94500</td>\n",
       "    </tr>\n",
       "    <tr>\n",
       "      <th>1337</th>\n",
       "      <td>61</td>\n",
       "      <td>female</td>\n",
       "      <td>29.070</td>\n",
       "      <td>0</td>\n",
       "      <td>yes</td>\n",
       "      <td>northwest</td>\n",
       "      <td>29141.36030</td>\n",
       "    </tr>\n",
       "  </tbody>\n",
       "</table>\n",
       "<p>1338 rows × 7 columns</p>\n",
       "</div>"
      ],
      "text/plain": [
       "      age     sex     bmi  children smoker     region      charges\n",
       "0      19  female  27.900         0    yes  southwest  16884.92400\n",
       "1      18    male  33.770         1     no  southeast   1725.55230\n",
       "2      28    male  33.000         3     no  southeast   4449.46200\n",
       "3      33    male  22.705         0     no  northwest  21984.47061\n",
       "4      32    male  28.880         0     no  northwest   3866.85520\n",
       "...   ...     ...     ...       ...    ...        ...          ...\n",
       "1333   50    male  30.970         3     no  northwest  10600.54830\n",
       "1334   18  female  31.920         0     no  northeast   2205.98080\n",
       "1335   18  female  36.850         0     no  southeast   1629.83350\n",
       "1336   21  female  25.800         0     no  southwest   2007.94500\n",
       "1337   61  female  29.070         0    yes  northwest  29141.36030\n",
       "\n",
       "[1338 rows x 7 columns]"
      ]
     },
     "execution_count": 2,
     "metadata": {},
     "output_type": "execute_result"
    }
   ],
   "source": [
    "data"
   ]
  },
  {
   "cell_type": "markdown",
   "id": "c50d44d7",
   "metadata": {},
   "source": [
    "__목표: charges(병원 보험비) 예측__\n",
    "\n",
    "- age: age of primary beneficiary\n",
    "\n",
    "- sex: insurance contractor gender, female, male\n",
    "\n",
    "- bmi: Body mass index, providing an understanding of body, weights that are relatively high or low relative to height,\n",
    "objective index of body weight (kg / m ^ 2) using the ratio of height to weight, ideally 18.5 to 24.9\n",
    "\n",
    "- children: Number of children covered by health insurance / Number of dependents\n",
    "\n",
    "- smoker: Smoking\n",
    "\n",
    "- region: the beneficiary's residential area in the US, northeast, southeast, southwest, northwest.\n",
    "\n",
    "- charges: Individual medical costs billed by health insurance"
   ]
  },
  {
   "cell_type": "markdown",
   "id": "b97d8899",
   "metadata": {},
   "source": [
    "## 결측값 확인"
   ]
  },
  {
   "cell_type": "code",
   "execution_count": 3,
   "id": "635b30d8",
   "metadata": {},
   "outputs": [
    {
     "data": {
      "text/plain": [
       "age         0\n",
       "sex         0\n",
       "bmi         0\n",
       "children    0\n",
       "smoker      0\n",
       "region      0\n",
       "charges     0\n",
       "dtype: int64"
      ]
     },
     "execution_count": 3,
     "metadata": {},
     "output_type": "execute_result"
    }
   ],
   "source": [
    "data.isnull().sum()"
   ]
  },
  {
   "cell_type": "markdown",
   "id": "c0fcdb2e",
   "metadata": {},
   "source": [
    "=> 결측값 없음"
   ]
  },
  {
   "cell_type": "markdown",
   "id": "0f0b1187",
   "metadata": {},
   "source": [
    "## categorical features 인코딩"
   ]
  },
  {
   "cell_type": "code",
   "execution_count": 4,
   "id": "9d749650",
   "metadata": {},
   "outputs": [
    {
     "data": {
      "text/plain": [
       "male      676\n",
       "female    662\n",
       "Name: sex, dtype: int64"
      ]
     },
     "execution_count": 4,
     "metadata": {},
     "output_type": "execute_result"
    }
   ],
   "source": [
    "data.sex.value_counts()"
   ]
  },
  {
   "cell_type": "code",
   "execution_count": 5,
   "id": "73bc211b",
   "metadata": {},
   "outputs": [
    {
     "data": {
      "text/plain": [
       "no     1064\n",
       "yes     274\n",
       "Name: smoker, dtype: int64"
      ]
     },
     "execution_count": 5,
     "metadata": {},
     "output_type": "execute_result"
    }
   ],
   "source": [
    "data.smoker.value_counts()"
   ]
  },
  {
   "cell_type": "code",
   "execution_count": 6,
   "id": "918c48c8",
   "metadata": {},
   "outputs": [
    {
     "data": {
      "text/plain": [
       "southeast    364\n",
       "southwest    325\n",
       "northwest    325\n",
       "northeast    324\n",
       "Name: region, dtype: int64"
      ]
     },
     "execution_count": 6,
     "metadata": {},
     "output_type": "execute_result"
    }
   ],
   "source": [
    "data.region.value_counts()"
   ]
  },
  {
   "cell_type": "markdown",
   "id": "23e793df",
   "metadata": {},
   "source": [
    "region은 여러 class가 있어 원래라면 onehot encoding을 해야하지만, region은 order가 없기 때문에(?) label encoding 사용 "
   ]
  },
  {
   "cell_type": "code",
   "execution_count": 7,
   "id": "9dda54ec",
   "metadata": {},
   "outputs": [],
   "source": [
    "from sklearn.preprocessing import LabelEncoder\n",
    "le = LabelEncoder()\n",
    "\n",
    "#sex\n",
    "le.fit(data.sex.drop_duplicates()) \n",
    "data.sex = le.transform(data.sex)\n",
    "\n",
    "# smoker or not\n",
    "le.fit(data.smoker.drop_duplicates()) \n",
    "data.smoker = le.transform(data.smoker)\n",
    "\n",
    "#region\n",
    "le.fit(data.region.drop_duplicates()) \n",
    "data.region = le.transform(data.region)"
   ]
  },
  {
   "cell_type": "code",
   "execution_count": 8,
   "id": "b8de5098",
   "metadata": {},
   "outputs": [
    {
     "data": {
      "text/plain": [
       "1    676\n",
       "0    662\n",
       "Name: sex, dtype: int64"
      ]
     },
     "execution_count": 8,
     "metadata": {},
     "output_type": "execute_result"
    }
   ],
   "source": [
    "data.sex.value_counts()"
   ]
  },
  {
   "cell_type": "code",
   "execution_count": 9,
   "id": "116cbe05",
   "metadata": {
    "scrolled": true
   },
   "outputs": [
    {
     "data": {
      "text/plain": [
       "2    364\n",
       "1    325\n",
       "3    325\n",
       "0    324\n",
       "Name: region, dtype: int64"
      ]
     },
     "execution_count": 9,
     "metadata": {},
     "output_type": "execute_result"
    }
   ],
   "source": [
    "data.region.value_counts()"
   ]
  },
  {
   "cell_type": "markdown",
   "id": "638bd0ab",
   "metadata": {},
   "source": [
    "## 다항회귀 - 전진/후진 선택법"
   ]
  },
  {
   "cell_type": "code",
   "execution_count": 7,
   "id": "1d8ef030",
   "metadata": {},
   "outputs": [],
   "source": [
    "import pandas as pd\n",
    "import numpy as np\n",
    "import statsmodels.api as sm\n",
    "from sklearn.model_selection import train_test_split"
   ]
  },
  {
   "cell_type": "code",
   "execution_count": 8,
   "id": "b2a14db7",
   "metadata": {},
   "outputs": [],
   "source": [
    "from sklearn.linear_model import LinearRegression\n",
    "from sklearn.preprocessing import PolynomialFeatures\n",
    "from sklearn.metrics import r2_score,mean_squared_error\n",
    "from sklearn.ensemble import RandomForestRegressor"
   ]
  },
  {
   "cell_type": "code",
   "execution_count": 9,
   "id": "a35328d0",
   "metadata": {
    "scrolled": true
   },
   "outputs": [
    {
     "data": {
      "text/html": [
       "<div>\n",
       "<style scoped>\n",
       "    .dataframe tbody tr th:only-of-type {\n",
       "        vertical-align: middle;\n",
       "    }\n",
       "\n",
       "    .dataframe tbody tr th {\n",
       "        vertical-align: top;\n",
       "    }\n",
       "\n",
       "    .dataframe thead th {\n",
       "        text-align: right;\n",
       "    }\n",
       "</style>\n",
       "<table border=\"1\" class=\"dataframe\">\n",
       "  <thead>\n",
       "    <tr style=\"text-align: right;\">\n",
       "      <th></th>\n",
       "      <th>const</th>\n",
       "      <th>age</th>\n",
       "      <th>sex</th>\n",
       "      <th>bmi</th>\n",
       "      <th>children</th>\n",
       "      <th>smoker</th>\n",
       "      <th>region</th>\n",
       "      <th>charges</th>\n",
       "    </tr>\n",
       "  </thead>\n",
       "  <tbody>\n",
       "    <tr>\n",
       "      <th>0</th>\n",
       "      <td>1.0</td>\n",
       "      <td>19</td>\n",
       "      <td>0</td>\n",
       "      <td>27.900</td>\n",
       "      <td>0</td>\n",
       "      <td>1</td>\n",
       "      <td>3</td>\n",
       "      <td>16884.92400</td>\n",
       "    </tr>\n",
       "    <tr>\n",
       "      <th>1</th>\n",
       "      <td>1.0</td>\n",
       "      <td>18</td>\n",
       "      <td>1</td>\n",
       "      <td>33.770</td>\n",
       "      <td>1</td>\n",
       "      <td>0</td>\n",
       "      <td>2</td>\n",
       "      <td>1725.55230</td>\n",
       "    </tr>\n",
       "    <tr>\n",
       "      <th>2</th>\n",
       "      <td>1.0</td>\n",
       "      <td>28</td>\n",
       "      <td>1</td>\n",
       "      <td>33.000</td>\n",
       "      <td>3</td>\n",
       "      <td>0</td>\n",
       "      <td>2</td>\n",
       "      <td>4449.46200</td>\n",
       "    </tr>\n",
       "    <tr>\n",
       "      <th>3</th>\n",
       "      <td>1.0</td>\n",
       "      <td>33</td>\n",
       "      <td>1</td>\n",
       "      <td>22.705</td>\n",
       "      <td>0</td>\n",
       "      <td>0</td>\n",
       "      <td>1</td>\n",
       "      <td>21984.47061</td>\n",
       "    </tr>\n",
       "    <tr>\n",
       "      <th>4</th>\n",
       "      <td>1.0</td>\n",
       "      <td>32</td>\n",
       "      <td>1</td>\n",
       "      <td>28.880</td>\n",
       "      <td>0</td>\n",
       "      <td>0</td>\n",
       "      <td>1</td>\n",
       "      <td>3866.85520</td>\n",
       "    </tr>\n",
       "  </tbody>\n",
       "</table>\n",
       "</div>"
      ],
      "text/plain": [
       "   const  age  sex     bmi  children  smoker  region      charges\n",
       "0    1.0   19    0  27.900         0       1       3  16884.92400\n",
       "1    1.0   18    1  33.770         1       0       2   1725.55230\n",
       "2    1.0   28    1  33.000         3       0       2   4449.46200\n",
       "3    1.0   33    1  22.705         0       0       1  21984.47061\n",
       "4    1.0   32    1  28.880         0       0       1   3866.85520"
      ]
     },
     "execution_count": 9,
     "metadata": {},
     "output_type": "execute_result"
    }
   ],
   "source": [
    "data = sm.add_constant(data, has_constant = \"add\")\n",
    "data.head()"
   ]
  },
  {
   "cell_type": "code",
   "execution_count": 10,
   "id": "5ca790ff",
   "metadata": {},
   "outputs": [],
   "source": [
    "x = data.drop(['charges'], axis = 1)\n",
    "y = data.charges\n",
    "\n",
    "x_train, x_test, y_train, y_test = train_test_split(x, y, random_state = 0)"
   ]
  },
  {
   "cell_type": "code",
   "execution_count": 12,
   "id": "8635aa8f",
   "metadata": {
    "scrolled": false
   },
   "outputs": [
    {
     "data": {
      "text/html": [
       "<table class=\"simpletable\">\n",
       "<caption>OLS Regression Results</caption>\n",
       "<tr>\n",
       "  <th>Dep. Variable:</th>         <td>charges</td>     <th>  R-squared:         </th> <td>   0.734</td> \n",
       "</tr>\n",
       "<tr>\n",
       "  <th>Model:</th>                   <td>OLS</td>       <th>  Adj. R-squared:    </th> <td>   0.732</td> \n",
       "</tr>\n",
       "<tr>\n",
       "  <th>Method:</th>             <td>Least Squares</td>  <th>  F-statistic:       </th> <td>   457.4</td> \n",
       "</tr>\n",
       "<tr>\n",
       "  <th>Date:</th>             <td>Fri, 28 May 2021</td> <th>  Prob (F-statistic):</th> <td>4.46e-282</td>\n",
       "</tr>\n",
       "<tr>\n",
       "  <th>Time:</th>                 <td>14:12:12</td>     <th>  Log-Likelihood:    </th> <td> -10177.</td> \n",
       "</tr>\n",
       "<tr>\n",
       "  <th>No. Observations:</th>      <td>  1003</td>      <th>  AIC:               </th> <td>2.037e+04</td>\n",
       "</tr>\n",
       "<tr>\n",
       "  <th>Df Residuals:</th>          <td>   996</td>      <th>  BIC:               </th> <td>2.040e+04</td>\n",
       "</tr>\n",
       "<tr>\n",
       "  <th>Df Model:</th>              <td>     6</td>      <th>                     </th>     <td> </td>    \n",
       "</tr>\n",
       "<tr>\n",
       "  <th>Covariance Type:</th>      <td>nonrobust</td>    <th>                     </th>     <td> </td>    \n",
       "</tr>\n",
       "</table>\n",
       "<table class=\"simpletable\">\n",
       "<tr>\n",
       "      <td></td>        <th>coef</th>     <th>std err</th>      <th>t</th>      <th>P>|t|</th>  <th>[0.025</th>    <th>0.975]</th>  \n",
       "</tr>\n",
       "<tr>\n",
       "  <th>const</th>    <td>-1.126e+04</td> <td> 1116.164</td> <td>  -10.089</td> <td> 0.000</td> <td>-1.35e+04</td> <td>-9070.836</td>\n",
       "</tr>\n",
       "<tr>\n",
       "  <th>age</th>      <td>  250.5376</td> <td>   14.062</td> <td>   17.817</td> <td> 0.000</td> <td>  222.943</td> <td>  278.132</td>\n",
       "</tr>\n",
       "<tr>\n",
       "  <th>sex</th>      <td>    3.6509</td> <td>  392.214</td> <td>    0.009</td> <td> 0.993</td> <td> -766.009</td> <td>  773.311</td>\n",
       "</tr>\n",
       "<tr>\n",
       "  <th>bmi</th>      <td>  322.8819</td> <td>   31.928</td> <td>   10.113</td> <td> 0.000</td> <td>  260.227</td> <td>  385.537</td>\n",
       "</tr>\n",
       "<tr>\n",
       "  <th>children</th> <td>  450.1474</td> <td>  162.504</td> <td>    2.770</td> <td> 0.006</td> <td>  131.258</td> <td>  769.037</td>\n",
       "</tr>\n",
       "<tr>\n",
       "  <th>smoker</th>   <td>  2.36e+04</td> <td>  488.662</td> <td>   48.300</td> <td> 0.000</td> <td> 2.26e+04</td> <td> 2.46e+04</td>\n",
       "</tr>\n",
       "<tr>\n",
       "  <th>region</th>   <td> -341.2440</td> <td>  179.063</td> <td>   -1.906</td> <td> 0.057</td> <td> -692.629</td> <td>   10.141</td>\n",
       "</tr>\n",
       "</table>\n",
       "<table class=\"simpletable\">\n",
       "<tr>\n",
       "  <th>Omnibus:</th>       <td>246.113</td> <th>  Durbin-Watson:     </th> <td>   2.011</td> \n",
       "</tr>\n",
       "<tr>\n",
       "  <th>Prob(Omnibus):</th> <td> 0.000</td>  <th>  Jarque-Bera (JB):  </th> <td> 605.913</td> \n",
       "</tr>\n",
       "<tr>\n",
       "  <th>Skew:</th>          <td> 1.294</td>  <th>  Prob(JB):          </th> <td>2.68e-132</td>\n",
       "</tr>\n",
       "<tr>\n",
       "  <th>Kurtosis:</th>      <td> 5.793</td>  <th>  Cond. No.          </th> <td>    294.</td> \n",
       "</tr>\n",
       "</table><br/><br/>Notes:<br/>[1] Standard Errors assume that the covariance matrix of the errors is correctly specified."
      ],
      "text/plain": [
       "<class 'statsmodels.iolib.summary.Summary'>\n",
       "\"\"\"\n",
       "                            OLS Regression Results                            \n",
       "==============================================================================\n",
       "Dep. Variable:                charges   R-squared:                       0.734\n",
       "Model:                            OLS   Adj. R-squared:                  0.732\n",
       "Method:                 Least Squares   F-statistic:                     457.4\n",
       "Date:                Fri, 28 May 2021   Prob (F-statistic):          4.46e-282\n",
       "Time:                        14:12:12   Log-Likelihood:                -10177.\n",
       "No. Observations:                1003   AIC:                         2.037e+04\n",
       "Df Residuals:                     996   BIC:                         2.040e+04\n",
       "Df Model:                           6                                         \n",
       "Covariance Type:            nonrobust                                         \n",
       "==============================================================================\n",
       "                 coef    std err          t      P>|t|      [0.025      0.975]\n",
       "------------------------------------------------------------------------------\n",
       "const      -1.126e+04   1116.164    -10.089      0.000   -1.35e+04   -9070.836\n",
       "age          250.5376     14.062     17.817      0.000     222.943     278.132\n",
       "sex            3.6509    392.214      0.009      0.993    -766.009     773.311\n",
       "bmi          322.8819     31.928     10.113      0.000     260.227     385.537\n",
       "children     450.1474    162.504      2.770      0.006     131.258     769.037\n",
       "smoker       2.36e+04    488.662     48.300      0.000    2.26e+04    2.46e+04\n",
       "region      -341.2440    179.063     -1.906      0.057    -692.629      10.141\n",
       "==============================================================================\n",
       "Omnibus:                      246.113   Durbin-Watson:                   2.011\n",
       "Prob(Omnibus):                  0.000   Jarque-Bera (JB):              605.913\n",
       "Skew:                           1.294   Prob(JB):                    2.68e-132\n",
       "Kurtosis:                       5.793   Cond. No.                         294.\n",
       "==============================================================================\n",
       "\n",
       "Notes:\n",
       "[1] Standard Errors assume that the covariance matrix of the errors is correctly specified.\n",
       "\"\"\""
      ]
     },
     "execution_count": 12,
     "metadata": {},
     "output_type": "execute_result"
    }
   ],
   "source": [
    "full_model = sm.OLS(y_train, x_train)\n",
    "fitted_full_model = full_model.fit()\n",
    "\n",
    "fitted_full_model.summary()"
   ]
  },
  {
   "cell_type": "markdown",
   "id": "538a3863",
   "metadata": {},
   "source": [
    "### 변수선택법"
   ]
  },
  {
   "cell_type": "markdown",
   "id": "7c2eadc8",
   "metadata": {},
   "source": [
    "$ AIC = -2*Log Likelihood + 2*p $"
   ]
  },
  {
   "cell_type": "markdown",
   "id": "d46100e3",
   "metadata": {},
   "source": [
    "-2*Log(Likelihood) : 모형의 적합도\n",
    "    \n",
    "p : 모형의 추정된 파라미터의 개수"
   ]
  },
  {
   "cell_type": "code",
   "execution_count": 13,
   "id": "ef1ac18d",
   "metadata": {},
   "outputs": [],
   "source": [
    "def processSubset(X, y, feature_set):\n",
    "    model = sm.OLS(y,X[list(feature_set)])  \n",
    "    regr = model.fit()   \n",
    "    AIC = regr.aic\n",
    "    return {\"model\" : regr, \"AIC\" : AIC}"
   ]
  },
  {
   "cell_type": "code",
   "execution_count": 14,
   "id": "f1685633",
   "metadata": {},
   "outputs": [],
   "source": [
    "import time\n",
    "import itertools \n",
    "\n",
    "def getBest(X, y, k):\n",
    "    tic = time.time()      \n",
    "    results = []           \n",
    "    for combo in itertools.combinations(X.columns.difference(['const'],k)) :    \n",
    "        combo = (list(combo)+['const'])    \n",
    "        results.append(processSubset(X,y,feature_set = combo)) \n",
    "        \n",
    "    models = pd.DataFrame(results) \n",
    "    best_model = models.loc[models['AIC'].argmin()] \n",
    "    toc = time.time()       \n",
    "    print(\"Processed\", models.shape[0], \"models on\", k, \"predictors in\",(toc - tic),\"seconds.\")\n",
    "    return best_model"
   ]
  },
  {
   "cell_type": "markdown",
   "id": "cdd9e03e",
   "metadata": {},
   "source": [
    "### 전진선택법"
   ]
  },
  {
   "cell_type": "markdown",
   "id": "f79d7760",
   "metadata": {},
   "source": [
    "전진선택법 : 절편만 있는 상수모형으로부터 시작해 중요하다고 생각되는 설명변수부터 차례로 모형에 추가"
   ]
  },
  {
   "cell_type": "code",
   "execution_count": 16,
   "id": "d9cc9f3d",
   "metadata": {},
   "outputs": [],
   "source": [
    "def forward(X, y, predictors):    \n",
    "    remaining_predictors = [p for p in X.columns.difference(['const']) if p not in predictors]\n",
    "    tic = time.time()   \n",
    "    results = []\n",
    "    for p in remaining_predictors :\n",
    "        results.append(processSubset(X=X, y=y, feature_set=predictors+[p]+['const']))\n",
    "    models = pd.DataFrame(results)    \n",
    "    \n",
    "    best_model = models.loc[models['AIC'].argmin()]   \n",
    "    toc = time.time()     \n",
    "    print(\"Processed \", models.shape[0], \"models on\", len(predictors)+1, \"predictors in\", (toc-tic))\n",
    "    print(\"Selected predictors:\",best_model[\"model\"].model.exog_names,\"AIC: \",best_model[0])\n",
    "    return best_model    "
   ]
  },
  {
   "cell_type": "code",
   "execution_count": 17,
   "id": "56d68685",
   "metadata": {},
   "outputs": [],
   "source": [
    "def forward_model(X,y):\n",
    "    Fmodels = pd.DataFrame(columns=[\"AIC\", \"model\"])\n",
    "    tic = time.time()\n",
    "    predictors = []   \n",
    "    \n",
    "    for i in range(1, len(X.columns.difference(['const'])) + 1):\n",
    "        Forward_result = forward(X=X, y=y, predictors=predictors)\n",
    "        if i > 1 :\n",
    "            if Forward_result[\"AIC\"] > Fmodel_before:\n",
    "                break\n",
    "        Fmodels.loc[i] = Forward_result\n",
    "        predictors = Fmodels.loc[i][\"model\"].model.exog_names\n",
    "        Fmodel_before = Fmodels.loc[i][\"AIC\"]\n",
    "        predictors = [k for k in predictors if k != 'const']\n",
    "    toc = time.time()\n",
    "    print(\"Total elapsed time:\",(toc-tic), \"seconds.\")\n",
    "    \n",
    "    return (Fmodels['model'][len(Fmodels['model'])])"
   ]
  },
  {
   "cell_type": "code",
   "execution_count": 18,
   "id": "cb4ebf3f",
   "metadata": {
    "scrolled": true
   },
   "outputs": [
    {
     "name": "stdout",
     "output_type": "stream",
     "text": [
      "Processed  6 models on 1 predictors in 0.017948389053344727\n",
      "Selected predictors: ['smoker', 'const'] AIC:  <statsmodels.regression.linear_model.RegressionResultsWrapper object at 0x0000023DC88B5208>\n",
      "Processed  5 models on 2 predictors in 0.00797724723815918\n",
      "Selected predictors: ['smoker', 'age', 'const'] AIC:  <statsmodels.regression.linear_model.RegressionResultsWrapper object at 0x0000023DC88C0048>\n",
      "Processed  4 models on 3 predictors in 0.005984306335449219\n",
      "Selected predictors: ['smoker', 'age', 'bmi', 'const'] AIC:  <statsmodels.regression.linear_model.RegressionResultsWrapper object at 0x0000023DC88A0848>\n",
      "Processed  3 models on 4 predictors in 0.005983829498291016\n",
      "Selected predictors: ['smoker', 'age', 'bmi', 'children', 'const'] AIC:  <statsmodels.regression.linear_model.RegressionResultsWrapper object at 0x0000023DC88CA648>\n",
      "Processed  2 models on 5 predictors in 0.005987405776977539\n",
      "Selected predictors: ['smoker', 'age', 'bmi', 'children', 'region', 'const'] AIC:  <statsmodels.regression.linear_model.RegressionResultsWrapper object at 0x0000023DC88D7548>\n",
      "Processed  1 models on 6 predictors in 0.0019979476928710938\n",
      "Selected predictors: ['smoker', 'age', 'bmi', 'children', 'region', 'sex', 'const'] AIC:  <statsmodels.regression.linear_model.RegressionResultsWrapper object at 0x0000023DC88D5308>\n",
      "Total elapsed time: 0.07888245582580566 seconds.\n"
     ]
    }
   ],
   "source": [
    "Forward_best_model = forward_model(X=x_train, y=y_train)"
   ]
  },
  {
   "cell_type": "code",
   "execution_count": 19,
   "id": "62eed6da",
   "metadata": {},
   "outputs": [
    {
     "data": {
      "text/plain": [
       "20365.16837203425"
      ]
     },
     "execution_count": 19,
     "metadata": {},
     "output_type": "execute_result"
    }
   ],
   "source": [
    "Forward_best_model.aic"
   ]
  },
  {
   "cell_type": "code",
   "execution_count": 20,
   "id": "cdc8dc78",
   "metadata": {},
   "outputs": [
    {
     "data": {
      "text/html": [
       "<table class=\"simpletable\">\n",
       "<caption>OLS Regression Results</caption>\n",
       "<tr>\n",
       "  <th>Dep. Variable:</th>         <td>charges</td>     <th>  R-squared:         </th> <td>   0.734</td> \n",
       "</tr>\n",
       "<tr>\n",
       "  <th>Model:</th>                   <td>OLS</td>       <th>  Adj. R-squared:    </th> <td>   0.732</td> \n",
       "</tr>\n",
       "<tr>\n",
       "  <th>Method:</th>             <td>Least Squares</td>  <th>  F-statistic:       </th> <td>   549.4</td> \n",
       "</tr>\n",
       "<tr>\n",
       "  <th>Date:</th>             <td>Fri, 28 May 2021</td> <th>  Prob (F-statistic):</th> <td>1.81e-283</td>\n",
       "</tr>\n",
       "<tr>\n",
       "  <th>Time:</th>                 <td>14:12:25</td>     <th>  Log-Likelihood:    </th> <td> -10177.</td> \n",
       "</tr>\n",
       "<tr>\n",
       "  <th>No. Observations:</th>      <td>  1003</td>      <th>  AIC:               </th> <td>2.037e+04</td>\n",
       "</tr>\n",
       "<tr>\n",
       "  <th>Df Residuals:</th>          <td>   997</td>      <th>  BIC:               </th> <td>2.039e+04</td>\n",
       "</tr>\n",
       "<tr>\n",
       "  <th>Df Model:</th>              <td>     5</td>      <th>                     </th>     <td> </td>    \n",
       "</tr>\n",
       "<tr>\n",
       "  <th>Covariance Type:</th>      <td>nonrobust</td>    <th>                     </th>     <td> </td>    \n",
       "</tr>\n",
       "</table>\n",
       "<table class=\"simpletable\">\n",
       "<tr>\n",
       "      <td></td>        <th>coef</th>     <th>std err</th>      <th>t</th>      <th>P>|t|</th>  <th>[0.025</th>    <th>0.975]</th>  \n",
       "</tr>\n",
       "<tr>\n",
       "  <th>smoker</th>   <td>  2.36e+04</td> <td>  487.264</td> <td>   48.439</td> <td> 0.000</td> <td> 2.26e+04</td> <td> 2.46e+04</td>\n",
       "</tr>\n",
       "<tr>\n",
       "  <th>age</th>      <td>  250.5359</td> <td>   14.054</td> <td>   17.827</td> <td> 0.000</td> <td>  222.957</td> <td>  278.115</td>\n",
       "</tr>\n",
       "<tr>\n",
       "  <th>bmi</th>      <td>  322.8922</td> <td>   31.893</td> <td>   10.124</td> <td> 0.000</td> <td>  260.306</td> <td>  385.478</td>\n",
       "</tr>\n",
       "<tr>\n",
       "  <th>children</th> <td>  450.1735</td> <td>  162.399</td> <td>    2.772</td> <td> 0.006</td> <td>  131.491</td> <td>  768.856</td>\n",
       "</tr>\n",
       "<tr>\n",
       "  <th>region</th>   <td> -341.2622</td> <td>  178.963</td> <td>   -1.907</td> <td> 0.057</td> <td> -692.450</td> <td>    9.925</td>\n",
       "</tr>\n",
       "<tr>\n",
       "  <th>const</th>    <td>-1.126e+04</td> <td> 1104.179</td> <td>  -10.197</td> <td> 0.000</td> <td>-1.34e+04</td> <td>-9092.874</td>\n",
       "</tr>\n",
       "</table>\n",
       "<table class=\"simpletable\">\n",
       "<tr>\n",
       "  <th>Omnibus:</th>       <td>246.104</td> <th>  Durbin-Watson:     </th> <td>   2.011</td> \n",
       "</tr>\n",
       "<tr>\n",
       "  <th>Prob(Omnibus):</th> <td> 0.000</td>  <th>  Jarque-Bera (JB):  </th> <td> 605.856</td> \n",
       "</tr>\n",
       "<tr>\n",
       "  <th>Skew:</th>          <td> 1.294</td>  <th>  Prob(JB):          </th> <td>2.75e-132</td>\n",
       "</tr>\n",
       "<tr>\n",
       "  <th>Kurtosis:</th>      <td> 5.793</td>  <th>  Cond. No.          </th> <td>    291.</td> \n",
       "</tr>\n",
       "</table><br/><br/>Notes:<br/>[1] Standard Errors assume that the covariance matrix of the errors is correctly specified."
      ],
      "text/plain": [
       "<class 'statsmodels.iolib.summary.Summary'>\n",
       "\"\"\"\n",
       "                            OLS Regression Results                            \n",
       "==============================================================================\n",
       "Dep. Variable:                charges   R-squared:                       0.734\n",
       "Model:                            OLS   Adj. R-squared:                  0.732\n",
       "Method:                 Least Squares   F-statistic:                     549.4\n",
       "Date:                Fri, 28 May 2021   Prob (F-statistic):          1.81e-283\n",
       "Time:                        14:12:25   Log-Likelihood:                -10177.\n",
       "No. Observations:                1003   AIC:                         2.037e+04\n",
       "Df Residuals:                     997   BIC:                         2.039e+04\n",
       "Df Model:                           5                                         \n",
       "Covariance Type:            nonrobust                                         \n",
       "==============================================================================\n",
       "                 coef    std err          t      P>|t|      [0.025      0.975]\n",
       "------------------------------------------------------------------------------\n",
       "smoker       2.36e+04    487.264     48.439      0.000    2.26e+04    2.46e+04\n",
       "age          250.5359     14.054     17.827      0.000     222.957     278.115\n",
       "bmi          322.8922     31.893     10.124      0.000     260.306     385.478\n",
       "children     450.1735    162.399      2.772      0.006     131.491     768.856\n",
       "region      -341.2622    178.963     -1.907      0.057    -692.450       9.925\n",
       "const      -1.126e+04   1104.179    -10.197      0.000   -1.34e+04   -9092.874\n",
       "==============================================================================\n",
       "Omnibus:                      246.104   Durbin-Watson:                   2.011\n",
       "Prob(Omnibus):                  0.000   Jarque-Bera (JB):              605.856\n",
       "Skew:                           1.294   Prob(JB):                    2.75e-132\n",
       "Kurtosis:                       5.793   Cond. No.                         291.\n",
       "==============================================================================\n",
       "\n",
       "Notes:\n",
       "[1] Standard Errors assume that the covariance matrix of the errors is correctly specified.\n",
       "\"\"\""
      ]
     },
     "execution_count": 20,
     "metadata": {},
     "output_type": "execute_result"
    }
   ],
   "source": [
    "Forward_best_model.summary()"
   ]
  },
  {
   "cell_type": "markdown",
   "id": "ec472152",
   "metadata": {},
   "source": [
    "### 후진제거법"
   ]
  },
  {
   "cell_type": "markdown",
   "id": "558f3f1f",
   "metadata": {},
   "source": [
    "후진제거법 : 독립변수 후보 모두를 포함한 모형에서 출발해 가장 적은 영향을 주는 변수부터 하나씩 제거하며 더 이상 제거할 변수가 없을 때의 모형을 선택"
   ]
  },
  {
   "cell_type": "code",
   "execution_count": 21,
   "id": "4b6c5387",
   "metadata": {},
   "outputs": [],
   "source": [
    "def backward(X,y,predictors):\n",
    "    tic = time.time()\n",
    "    results = []\n",
    "    \n",
    "    for combo in itertools.combinations(predictors, len(predictors) - 1):\n",
    "        results.append(processSubset(X=X,y=y,feature_set=list(combo)+['const']))\n",
    "    models = pd.DataFrame(results)\n",
    "    best_model = models.loc[models['AIC'].argmin()]\n",
    "    toc = time.time()\n",
    "    \n",
    "    print(\"Processed \",models.shape[0], \"models on\", len(predictors) - 1, \"predictors in\", (toc-tic))\n",
    "    print(\"Selected predictors:\",best_model['model'].model.exog_names,' AIC:',best_model[0])\n",
    "    return best_model"
   ]
  },
  {
   "cell_type": "code",
   "execution_count": 22,
   "id": "53f21c60",
   "metadata": {},
   "outputs": [],
   "source": [
    "def backward_model(X,y) :\n",
    "    Bmodels = pd.DataFrame(columns=[\"AIC\",\"model\"], index = range(1,len(X.columns)))\n",
    "    tic = time.time()\n",
    "    predictors = X.columns.difference(['const'])\n",
    "    Bmodel_before = processSubset(X,y,predictors)['AIC']\n",
    "    while (len(predictors) > 1):\n",
    "        Backward_result = backward(X=x_train, y=y_train, predictors=predictors)\n",
    "        if Backward_result['AIC'] > Bmodel_before :\n",
    "            break\n",
    "        Bmodels.loc[len(predictors) -1] = Backward_result\n",
    "        predictors = Bmodels.loc[len(predictors) - 1]['model'].model.exog_names\n",
    "        Bmodel_before = Backward_result[\"AIC\"]\n",
    "        predictors = [k for k in predictors if k != 'const']\n",
    "    \n",
    "    toc = time.time()\n",
    "    print(\"Total elapsed time:\",(toc-tic),\"seconds.\")\n",
    "    return (Bmodels[\"model\"].dropna().iloc[0])"
   ]
  },
  {
   "cell_type": "code",
   "execution_count": 23,
   "id": "3fc24caa",
   "metadata": {
    "scrolled": true
   },
   "outputs": [
    {
     "name": "stdout",
     "output_type": "stream",
     "text": [
      "Processed  6 models on 5 predictors in 0.013963937759399414\n",
      "Selected predictors: ['age', 'bmi', 'children', 'region', 'smoker', 'const']  AIC: <statsmodels.regression.linear_model.RegressionResultsWrapper object at 0x0000023DC931FD48>\n",
      "Processed  5 models on 4 predictors in 0.01396322250366211\n",
      "Selected predictors: ['age', 'bmi', 'children', 'smoker', 'const']  AIC: <statsmodels.regression.linear_model.RegressionResultsWrapper object at 0x0000023DC932DF88>\n",
      "Total elapsed time: 0.03789687156677246 seconds.\n"
     ]
    }
   ],
   "source": [
    "Backward_best_model = backward_model(X=x_train, y=y_train)"
   ]
  },
  {
   "cell_type": "code",
   "execution_count": 24,
   "id": "df14997e",
   "metadata": {},
   "outputs": [
    {
     "data": {
      "text/plain": [
       "20365.16837203425"
      ]
     },
     "execution_count": 24,
     "metadata": {},
     "output_type": "execute_result"
    }
   ],
   "source": [
    "Backward_best_model.aic"
   ]
  },
  {
   "cell_type": "code",
   "execution_count": 25,
   "id": "a33e0dbb",
   "metadata": {},
   "outputs": [
    {
     "data": {
      "text/html": [
       "<table class=\"simpletable\">\n",
       "<caption>OLS Regression Results</caption>\n",
       "<tr>\n",
       "  <th>Dep. Variable:</th>         <td>charges</td>     <th>  R-squared:         </th> <td>   0.734</td> \n",
       "</tr>\n",
       "<tr>\n",
       "  <th>Model:</th>                   <td>OLS</td>       <th>  Adj. R-squared:    </th> <td>   0.732</td> \n",
       "</tr>\n",
       "<tr>\n",
       "  <th>Method:</th>             <td>Least Squares</td>  <th>  F-statistic:       </th> <td>   549.4</td> \n",
       "</tr>\n",
       "<tr>\n",
       "  <th>Date:</th>             <td>Fri, 28 May 2021</td> <th>  Prob (F-statistic):</th> <td>1.81e-283</td>\n",
       "</tr>\n",
       "<tr>\n",
       "  <th>Time:</th>                 <td>14:12:30</td>     <th>  Log-Likelihood:    </th> <td> -10177.</td> \n",
       "</tr>\n",
       "<tr>\n",
       "  <th>No. Observations:</th>      <td>  1003</td>      <th>  AIC:               </th> <td>2.037e+04</td>\n",
       "</tr>\n",
       "<tr>\n",
       "  <th>Df Residuals:</th>          <td>   997</td>      <th>  BIC:               </th> <td>2.039e+04</td>\n",
       "</tr>\n",
       "<tr>\n",
       "  <th>Df Model:</th>              <td>     5</td>      <th>                     </th>     <td> </td>    \n",
       "</tr>\n",
       "<tr>\n",
       "  <th>Covariance Type:</th>      <td>nonrobust</td>    <th>                     </th>     <td> </td>    \n",
       "</tr>\n",
       "</table>\n",
       "<table class=\"simpletable\">\n",
       "<tr>\n",
       "      <td></td>        <th>coef</th>     <th>std err</th>      <th>t</th>      <th>P>|t|</th>  <th>[0.025</th>    <th>0.975]</th>  \n",
       "</tr>\n",
       "<tr>\n",
       "  <th>age</th>      <td>  250.5359</td> <td>   14.054</td> <td>   17.827</td> <td> 0.000</td> <td>  222.957</td> <td>  278.115</td>\n",
       "</tr>\n",
       "<tr>\n",
       "  <th>bmi</th>      <td>  322.8922</td> <td>   31.893</td> <td>   10.124</td> <td> 0.000</td> <td>  260.306</td> <td>  385.478</td>\n",
       "</tr>\n",
       "<tr>\n",
       "  <th>children</th> <td>  450.1735</td> <td>  162.399</td> <td>    2.772</td> <td> 0.006</td> <td>  131.491</td> <td>  768.856</td>\n",
       "</tr>\n",
       "<tr>\n",
       "  <th>region</th>   <td> -341.2622</td> <td>  178.963</td> <td>   -1.907</td> <td> 0.057</td> <td> -692.450</td> <td>    9.925</td>\n",
       "</tr>\n",
       "<tr>\n",
       "  <th>smoker</th>   <td>  2.36e+04</td> <td>  487.264</td> <td>   48.439</td> <td> 0.000</td> <td> 2.26e+04</td> <td> 2.46e+04</td>\n",
       "</tr>\n",
       "<tr>\n",
       "  <th>const</th>    <td>-1.126e+04</td> <td> 1104.179</td> <td>  -10.197</td> <td> 0.000</td> <td>-1.34e+04</td> <td>-9092.874</td>\n",
       "</tr>\n",
       "</table>\n",
       "<table class=\"simpletable\">\n",
       "<tr>\n",
       "  <th>Omnibus:</th>       <td>246.104</td> <th>  Durbin-Watson:     </th> <td>   2.011</td> \n",
       "</tr>\n",
       "<tr>\n",
       "  <th>Prob(Omnibus):</th> <td> 0.000</td>  <th>  Jarque-Bera (JB):  </th> <td> 605.856</td> \n",
       "</tr>\n",
       "<tr>\n",
       "  <th>Skew:</th>          <td> 1.294</td>  <th>  Prob(JB):          </th> <td>2.75e-132</td>\n",
       "</tr>\n",
       "<tr>\n",
       "  <th>Kurtosis:</th>      <td> 5.793</td>  <th>  Cond. No.          </th> <td>    291.</td> \n",
       "</tr>\n",
       "</table><br/><br/>Notes:<br/>[1] Standard Errors assume that the covariance matrix of the errors is correctly specified."
      ],
      "text/plain": [
       "<class 'statsmodels.iolib.summary.Summary'>\n",
       "\"\"\"\n",
       "                            OLS Regression Results                            \n",
       "==============================================================================\n",
       "Dep. Variable:                charges   R-squared:                       0.734\n",
       "Model:                            OLS   Adj. R-squared:                  0.732\n",
       "Method:                 Least Squares   F-statistic:                     549.4\n",
       "Date:                Fri, 28 May 2021   Prob (F-statistic):          1.81e-283\n",
       "Time:                        14:12:30   Log-Likelihood:                -10177.\n",
       "No. Observations:                1003   AIC:                         2.037e+04\n",
       "Df Residuals:                     997   BIC:                         2.039e+04\n",
       "Df Model:                           5                                         \n",
       "Covariance Type:            nonrobust                                         \n",
       "==============================================================================\n",
       "                 coef    std err          t      P>|t|      [0.025      0.975]\n",
       "------------------------------------------------------------------------------\n",
       "age          250.5359     14.054     17.827      0.000     222.957     278.115\n",
       "bmi          322.8922     31.893     10.124      0.000     260.306     385.478\n",
       "children     450.1735    162.399      2.772      0.006     131.491     768.856\n",
       "region      -341.2622    178.963     -1.907      0.057    -692.450       9.925\n",
       "smoker       2.36e+04    487.264     48.439      0.000    2.26e+04    2.46e+04\n",
       "const      -1.126e+04   1104.179    -10.197      0.000   -1.34e+04   -9092.874\n",
       "==============================================================================\n",
       "Omnibus:                      246.104   Durbin-Watson:                   2.011\n",
       "Prob(Omnibus):                  0.000   Jarque-Bera (JB):              605.856\n",
       "Skew:                           1.294   Prob(JB):                    2.75e-132\n",
       "Kurtosis:                       5.793   Cond. No.                         291.\n",
       "==============================================================================\n",
       "\n",
       "Notes:\n",
       "[1] Standard Errors assume that the covariance matrix of the errors is correctly specified.\n",
       "\"\"\""
      ]
     },
     "execution_count": 25,
     "metadata": {},
     "output_type": "execute_result"
    }
   ],
   "source": [
    "Backward_best_model.summary()"
   ]
  },
  {
   "cell_type": "markdown",
   "id": "327d81e9",
   "metadata": {},
   "source": [
    "### 성능평가"
   ]
  },
  {
   "cell_type": "code",
   "execution_count": 27,
   "id": "b906ce19",
   "metadata": {},
   "outputs": [],
   "source": [
    "pred_y_full = fitted_full_model.predict(x_test)\n",
    "pred_y_forward = Forward_best_model.predict(x_test[Forward_best_model.model.exog_names])\n",
    "pred_y_backward = Backward_best_model.predict(x_test[Backward_best_model.model.exog_names])"
   ]
  },
  {
   "cell_type": "code",
   "execution_count": 28,
   "id": "8117defb",
   "metadata": {
    "scrolled": true
   },
   "outputs": [],
   "source": [
    "import sklearn.metrics as metrics\n",
    "perf_mat = pd.DataFrame(columns=[\"ALL\", \"FORWARD\", \"BACKWARD\"],index =['MSE', 'RMSE','MAE'])\n",
    "\n",
    "perf_mat.loc['MSE']['ALL'] = metrics.mean_squared_error(y_test,pred_y_full)\n",
    "perf_mat.loc['MSE']['FORWARD'] = metrics.mean_squared_error(y_test,pred_y_forward)\n",
    "perf_mat.loc['MSE']['BACKWARD'] = metrics.mean_squared_error(y_test,pred_y_backward)\n",
    "\n",
    "perf_mat.loc['RMSE']['ALL'] = np.sqrt(metrics.mean_squared_error(y_test, pred_y_full))\n",
    "perf_mat.loc['RMSE']['FORWARD'] = np.sqrt(metrics.mean_squared_error(y_test, pred_y_forward))\n",
    "perf_mat.loc['RMSE']['BACKWARD'] = np.sqrt(metrics.mean_squared_error(y_test, pred_y_backward))\n",
    "\n",
    "perf_mat.loc['MAE']['ALL'] = metrics.mean_absolute_error(y_test, pred_y_full)\n",
    "perf_mat.loc['MAE']['FORWARD'] = metrics.mean_absolute_error(y_test, pred_y_forward)\n",
    "perf_mat.loc['MAE']['BACKWARD'] = metrics.mean_absolute_error(y_test, pred_y_backward)"
   ]
  },
  {
   "cell_type": "code",
   "execution_count": 29,
   "id": "87a73dcc",
   "metadata": {
    "scrolled": true
   },
   "outputs": [
    {
     "name": "stdout",
     "output_type": "stream",
     "text": [
      "              ALL      FORWARD     BACKWARD\n",
      "MSE   3.20736e+07  3.20727e+07  3.20727e+07\n",
      "RMSE      5663.36      5663.27      5663.27\n",
      "MAE       3998.27      3998.04      3998.04\n"
     ]
    }
   ],
   "source": [
    "print(perf_mat)"
   ]
  },
  {
   "cell_type": "markdown",
   "id": "c0de5b1d",
   "metadata": {},
   "source": [
    "## 규제선형모델 적용: 릿지, 라쏘, 엘라스틱넷 회귀"
   ]
  },
  {
   "cell_type": "code",
   "execution_count": 42,
   "id": "a5f05aa8",
   "metadata": {},
   "outputs": [],
   "source": [
    "from sklearn.linear_model import Ridge, Lasso, ElasticNet\n",
    "from sklearn.model_selection import train_test_split\n",
    "from sklearn.model_selection import cross_val_score"
   ]
  },
  {
   "cell_type": "code",
   "execution_count": 43,
   "id": "baabe098",
   "metadata": {},
   "outputs": [],
   "source": [
    "x = data.drop(['charges'], axis = 1)\n",
    "y = data[\"charges\"]"
   ]
  },
  {
   "cell_type": "code",
   "execution_count": 45,
   "id": "670089f2",
   "metadata": {},
   "outputs": [],
   "source": [
    "x_train,x_test,y_train,y_test = train_test_split(x,y, test_size=0.2, random_state = 0)"
   ]
  },
  {
   "cell_type": "code",
   "execution_count": 53,
   "id": "e785a09f",
   "metadata": {},
   "outputs": [],
   "source": [
    "def get_linear_reg_eval(model_name, params=None, X_data_n=None, y_target_n=None, verbose=True):\n",
    "    coeff_df = pd.DataFrame()\n",
    "    if verbose : print('####### ', model_name , '#######')\n",
    "    for param in params:\n",
    "        if model_name =='Ridge': model = Ridge(alpha=param)\n",
    "        elif model_name =='Lasso': model = Lasso(alpha=param)\n",
    "        elif model_name =='ElasticNet': model = ElasticNet(alpha=param, l1_ratio=0.7)\n",
    "        neg_mse_scores = cross_val_score(model, X_data_n, \n",
    "                                             y_target_n, scoring=\"neg_mean_squared_error\", cv = 5)\n",
    "        avg_rmse = np.mean(np.sqrt(-1 * neg_mse_scores))\n",
    "        print('alpha {0}일 때 5 폴드 세트의 평균 RMSE: {1:.3f} '.format(param, avg_rmse))\n",
    "        # cross_val_score는 evaluation metric만 반환하므로 모델을 다시 학습하여 회귀 계수 추출\n",
    "        \n",
    "        model.fit(x , y)\n",
    "        # alpha에 따른 피처별 회귀 계수를 Series로 변환하고 이를 DataFrame의 컬럼으로 추가. \n",
    "        coeff = pd.Series(data=model.coef_ , index=x.columns )\n",
    "        colname='alpha:'+str(param)\n",
    "        coeff_df[colname] = coeff\n",
    "    return coeff_df"
   ]
  },
  {
   "cell_type": "markdown",
   "id": "396b5256",
   "metadata": {},
   "source": [
    "### 릿지_L2규제 사용"
   ]
  },
  {
   "cell_type": "code",
   "execution_count": 61,
   "id": "491eaef8",
   "metadata": {},
   "outputs": [
    {
     "name": "stdout",
     "output_type": "stream",
     "text": [
      "#######  Ridge #######\n",
      "alpha 0.07일 때 5 폴드 세트의 평균 RMSE: 6068.390 \n",
      "alpha 0.1일 때 5 폴드 세트의 평균 RMSE: 6068.394 \n",
      "alpha 0.5일 때 5 폴드 세트의 평균 RMSE: 6068.489 \n",
      "alpha 1일 때 5 폴드 세트의 평균 RMSE: 6068.720 \n",
      "alpha 3일 때 5 폴드 세트의 평균 RMSE: 6070.845 \n",
      "alpha 5일 때 5 폴드 세트의 평균 RMSE: 6074.791 \n",
      "alpha 10일 때 5 폴드 세트의 평균 RMSE: 6091.809 \n",
      "alpha 100일 때 5 폴드 세트의 평균 RMSE: 7014.860 \n"
     ]
    }
   ],
   "source": [
    "ridge_alphas = [ 0.07, 0.1, 0.5, 1, 3, 5,10, 100]\n",
    "coeff_lasso_df =get_linear_reg_eval('Ridge', params=ridge_alphas, X_data_n=x, y_target_n=y)"
   ]
  },
  {
   "cell_type": "code",
   "execution_count": 72,
   "id": "99fea480",
   "metadata": {},
   "outputs": [
    {
     "data": {
      "text/html": [
       "<div>\n",
       "<style scoped>\n",
       "    .dataframe tbody tr th:only-of-type {\n",
       "        vertical-align: middle;\n",
       "    }\n",
       "\n",
       "    .dataframe tbody tr th {\n",
       "        vertical-align: top;\n",
       "    }\n",
       "\n",
       "    .dataframe thead th {\n",
       "        text-align: right;\n",
       "    }\n",
       "</style>\n",
       "<table border=\"1\" class=\"dataframe\">\n",
       "  <thead>\n",
       "    <tr style=\"text-align: right;\">\n",
       "      <th></th>\n",
       "      <th>alpha:0.07</th>\n",
       "      <th>alpha:0.1</th>\n",
       "      <th>alpha:0.5</th>\n",
       "      <th>alpha:1</th>\n",
       "      <th>alpha:3</th>\n",
       "      <th>alpha:5</th>\n",
       "      <th>alpha:10</th>\n",
       "      <th>alpha:100</th>\n",
       "    </tr>\n",
       "  </thead>\n",
       "  <tbody>\n",
       "    <tr>\n",
       "      <th>smoker</th>\n",
       "      <td>23812.732391</td>\n",
       "      <td>23809.433179</td>\n",
       "      <td>23765.531200</td>\n",
       "      <td>23710.881700</td>\n",
       "      <td>23494.783083</td>\n",
       "      <td>23282.601737</td>\n",
       "      <td>22768.601432</td>\n",
       "      <td>16299.298665</td>\n",
       "    </tr>\n",
       "    <tr>\n",
       "      <th>children</th>\n",
       "      <td>479.370825</td>\n",
       "      <td>479.371434</td>\n",
       "      <td>479.379375</td>\n",
       "      <td>479.388800</td>\n",
       "      <td>479.421020</td>\n",
       "      <td>479.444654</td>\n",
       "      <td>479.467713</td>\n",
       "      <td>473.910334</td>\n",
       "    </tr>\n",
       "    <tr>\n",
       "      <th>bmi</th>\n",
       "      <td>332.570793</td>\n",
       "      <td>332.571077</td>\n",
       "      <td>332.574850</td>\n",
       "      <td>332.579557</td>\n",
       "      <td>332.598270</td>\n",
       "      <td>332.616796</td>\n",
       "      <td>332.662259</td>\n",
       "      <td>333.248303</td>\n",
       "    </tr>\n",
       "    <tr>\n",
       "      <th>age</th>\n",
       "      <td>257.282802</td>\n",
       "      <td>257.280543</td>\n",
       "      <td>257.250480</td>\n",
       "      <td>257.213051</td>\n",
       "      <td>257.064967</td>\n",
       "      <td>256.919446</td>\n",
       "      <td>256.566419</td>\n",
       "      <td>252.056202</td>\n",
       "    </tr>\n",
       "    <tr>\n",
       "      <th>sex</th>\n",
       "      <td>-130.613255</td>\n",
       "      <td>-130.400272</td>\n",
       "      <td>-127.569484</td>\n",
       "      <td>-124.054358</td>\n",
       "      <td>-110.249124</td>\n",
       "      <td>-96.841995</td>\n",
       "      <td>-64.979753</td>\n",
       "      <td>252.512820</td>\n",
       "    </tr>\n",
       "    <tr>\n",
       "      <th>region</th>\n",
       "      <td>-353.632478</td>\n",
       "      <td>-353.629245</td>\n",
       "      <td>-353.586065</td>\n",
       "      <td>-353.531875</td>\n",
       "      <td>-353.312777</td>\n",
       "      <td>-353.090030</td>\n",
       "      <td>-352.517996</td>\n",
       "      <td>-339.950782</td>\n",
       "    </tr>\n",
       "  </tbody>\n",
       "</table>\n",
       "</div>"
      ],
      "text/plain": [
       "            alpha:0.07     alpha:0.1     alpha:0.5       alpha:1  \\\n",
       "smoker    23812.732391  23809.433179  23765.531200  23710.881700   \n",
       "children    479.370825    479.371434    479.379375    479.388800   \n",
       "bmi         332.570793    332.571077    332.574850    332.579557   \n",
       "age         257.282802    257.280543    257.250480    257.213051   \n",
       "sex        -130.613255   -130.400272   -127.569484   -124.054358   \n",
       "region     -353.632478   -353.629245   -353.586065   -353.531875   \n",
       "\n",
       "               alpha:3       alpha:5      alpha:10     alpha:100  \n",
       "smoker    23494.783083  23282.601737  22768.601432  16299.298665  \n",
       "children    479.421020    479.444654    479.467713    473.910334  \n",
       "bmi         332.598270    332.616796    332.662259    333.248303  \n",
       "age         257.064967    256.919446    256.566419    252.056202  \n",
       "sex        -110.249124    -96.841995    -64.979753    252.512820  \n",
       "region     -353.312777   -353.090030   -352.517996   -339.950782  "
      ]
     },
     "execution_count": 72,
     "metadata": {},
     "output_type": "execute_result"
    }
   ],
   "source": [
    "sort_column = 'alpha:'+str(ridge_alphas[0])\n",
    "coeff_lasso_df.sort_values(by=sort_column, ascending=False)"
   ]
  },
  {
   "cell_type": "markdown",
   "id": "158adead",
   "metadata": {},
   "source": [
    "alpha값이 증가하면서 회귀 계수가 지속적으로 작아지는 추세를 보임. 회귀계수를 0으로 만들지 않음"
   ]
  },
  {
   "cell_type": "markdown",
   "id": "81d66c7d",
   "metadata": {},
   "source": [
    "### 라쏘_L1규제 사용"
   ]
  },
  {
   "cell_type": "code",
   "execution_count": 58,
   "id": "1b8202e4",
   "metadata": {},
   "outputs": [
    {
     "name": "stdout",
     "output_type": "stream",
     "text": [
      "#######  Lasso #######\n",
      "alpha 0.07일 때 5 폴드 세트의 평균 RMSE: 6068.376 \n",
      "alpha 0.1일 때 5 폴드 세트의 평균 RMSE: 6068.374 \n",
      "alpha 0.5일 때 5 폴드 세트의 평균 RMSE: 6068.339 \n",
      "alpha 1일 때 5 폴드 세트의 평균 RMSE: 6068.296 \n",
      "alpha 3일 때 5 폴드 세트의 평균 RMSE: 6068.131 \n",
      "alpha 5일 때 5 폴드 세트의 평균 RMSE: 6067.973 \n",
      "alpha 10일 때 5 폴드 세트의 평균 RMSE: 6067.614 \n"
     ]
    }
   ],
   "source": [
    "lasso_alphas = [ 0.07, 0.1, 0.5, 1, 3, 5,10]\n",
    "coeff_lasso_df =get_linear_reg_eval('Lasso', params=lasso_alphas, X_data_n=x, y_target_n=y)"
   ]
  },
  {
   "cell_type": "code",
   "execution_count": 55,
   "id": "c5ec2c00",
   "metadata": {},
   "outputs": [
    {
     "data": {
      "text/html": [
       "<div>\n",
       "<style scoped>\n",
       "    .dataframe tbody tr th:only-of-type {\n",
       "        vertical-align: middle;\n",
       "    }\n",
       "\n",
       "    .dataframe tbody tr th {\n",
       "        vertical-align: top;\n",
       "    }\n",
       "\n",
       "    .dataframe thead th {\n",
       "        text-align: right;\n",
       "    }\n",
       "</style>\n",
       "<table border=\"1\" class=\"dataframe\">\n",
       "  <thead>\n",
       "    <tr style=\"text-align: right;\">\n",
       "      <th></th>\n",
       "      <th>alpha:0.07</th>\n",
       "      <th>alpha:0.1</th>\n",
       "      <th>alpha:0.5</th>\n",
       "      <th>alpha:1</th>\n",
       "      <th>alpha:3</th>\n",
       "    </tr>\n",
       "  </thead>\n",
       "  <tbody>\n",
       "    <tr>\n",
       "      <th>smoker</th>\n",
       "      <td>23819.976521</td>\n",
       "      <td>23819.780405</td>\n",
       "      <td>23817.165521</td>\n",
       "      <td>23813.897000</td>\n",
       "      <td>23800.822579</td>\n",
       "    </tr>\n",
       "    <tr>\n",
       "      <th>children</th>\n",
       "      <td>479.319496</td>\n",
       "      <td>479.298129</td>\n",
       "      <td>479.013239</td>\n",
       "      <td>478.656095</td>\n",
       "      <td>477.231652</td>\n",
       "    </tr>\n",
       "    <tr>\n",
       "      <th>bmi</th>\n",
       "      <td>332.565534</td>\n",
       "      <td>332.563578</td>\n",
       "      <td>332.537499</td>\n",
       "      <td>332.504040</td>\n",
       "      <td>332.373655</td>\n",
       "    </tr>\n",
       "    <tr>\n",
       "      <th>age</th>\n",
       "      <td>257.288068</td>\n",
       "      <td>257.288041</td>\n",
       "      <td>257.287674</td>\n",
       "      <td>257.288631</td>\n",
       "      <td>257.286781</td>\n",
       "    </tr>\n",
       "    <tr>\n",
       "      <th>sex</th>\n",
       "      <td>-130.797852</td>\n",
       "      <td>-130.664072</td>\n",
       "      <td>-128.880339</td>\n",
       "      <td>-126.636592</td>\n",
       "      <td>-117.718069</td>\n",
       "    </tr>\n",
       "    <tr>\n",
       "      <th>region</th>\n",
       "      <td>-353.578746</td>\n",
       "      <td>-353.552499</td>\n",
       "      <td>-353.202540</td>\n",
       "      <td>-352.764393</td>\n",
       "      <td>-351.014609</td>\n",
       "    </tr>\n",
       "  </tbody>\n",
       "</table>\n",
       "</div>"
      ],
      "text/plain": [
       "            alpha:0.07     alpha:0.1     alpha:0.5       alpha:1       alpha:3\n",
       "smoker    23819.976521  23819.780405  23817.165521  23813.897000  23800.822579\n",
       "children    479.319496    479.298129    479.013239    478.656095    477.231652\n",
       "bmi         332.565534    332.563578    332.537499    332.504040    332.373655\n",
       "age         257.288068    257.288041    257.287674    257.288631    257.286781\n",
       "sex        -130.797852   -130.664072   -128.880339   -126.636592   -117.718069\n",
       "region     -353.578746   -353.552499   -353.202540   -352.764393   -351.014609"
      ]
     },
     "execution_count": 55,
     "metadata": {},
     "output_type": "execute_result"
    }
   ],
   "source": [
    "# 반환된 coeff_lasso_df를 첫번째 컬럼순으로 내림차순 정렬하여 회귀계수 DataFrame출력\n",
    "sort_column = 'alpha:'+str(lasso_alphas[0])\n",
    "coeff_lasso_df.sort_values(by=sort_column, ascending=False)"
   ]
  },
  {
   "cell_type": "markdown",
   "id": "b430fdd8",
   "metadata": {},
   "source": [
    "피처 선택의 효과는 확인할 수 없음"
   ]
  },
  {
   "cell_type": "markdown",
   "id": "904ee30c",
   "metadata": {},
   "source": [
    "### 엘라스틱 넷_L1+L2 규제"
   ]
  },
  {
   "cell_type": "code",
   "execution_count": 64,
   "id": "c384c4e5",
   "metadata": {},
   "outputs": [
    {
     "name": "stdout",
     "output_type": "stream",
     "text": [
      "#######  ElasticNet #######\n",
      "alpha 0.07일 때 5 폴드 세트의 평균 RMSE: 6169.486 \n",
      "alpha 0.1일 때 5 폴드 세트의 평균 RMSE: 6253.588 \n",
      "alpha 0.5일 때 5 폴드 세트의 평균 RMSE: 7627.566 \n",
      "alpha 1일 때 5 폴드 세트의 평균 RMSE: 8701.863 \n",
      "alpha 3일 때 5 폴드 세트의 평균 RMSE: 10153.916 \n"
     ]
    }
   ],
   "source": [
    "elastic_alphas = [ 0.07, 0.1, 0.5, 1, 3]\n",
    "coeff_elastic_df =get_linear_reg_eval('ElasticNet', params=elastic_alphas,\n",
    "                                      X_data_n=x, y_target_n=y)"
   ]
  },
  {
   "cell_type": "code",
   "execution_count": 65,
   "id": "7bb0197b",
   "metadata": {},
   "outputs": [
    {
     "data": {
      "text/html": [
       "<div>\n",
       "<style scoped>\n",
       "    .dataframe tbody tr th:only-of-type {\n",
       "        vertical-align: middle;\n",
       "    }\n",
       "\n",
       "    .dataframe tbody tr th {\n",
       "        vertical-align: top;\n",
       "    }\n",
       "\n",
       "    .dataframe thead th {\n",
       "        text-align: right;\n",
       "    }\n",
       "</style>\n",
       "<table border=\"1\" class=\"dataframe\">\n",
       "  <thead>\n",
       "    <tr style=\"text-align: right;\">\n",
       "      <th></th>\n",
       "      <th>alpha:0.07</th>\n",
       "      <th>alpha:0.1</th>\n",
       "      <th>alpha:0.5</th>\n",
       "      <th>alpha:1</th>\n",
       "      <th>alpha:3</th>\n",
       "    </tr>\n",
       "  </thead>\n",
       "  <tbody>\n",
       "    <tr>\n",
       "      <th>smoker</th>\n",
       "      <td>21084.112769</td>\n",
       "      <td>20095.331567</td>\n",
       "      <td>12370.988170</td>\n",
       "      <td>8359.962488</td>\n",
       "      <td>3641.135569</td>\n",
       "    </tr>\n",
       "    <tr>\n",
       "      <th>children</th>\n",
       "      <td>479.134934</td>\n",
       "      <td>478.635500</td>\n",
       "      <td>460.949588</td>\n",
       "      <td>430.587605</td>\n",
       "      <td>328.718356</td>\n",
       "    </tr>\n",
       "    <tr>\n",
       "      <th>bmi</th>\n",
       "      <td>332.814278</td>\n",
       "      <td>332.905854</td>\n",
       "      <td>333.431965</td>\n",
       "      <td>332.966131</td>\n",
       "      <td>328.074827</td>\n",
       "    </tr>\n",
       "    <tr>\n",
       "      <th>age</th>\n",
       "      <td>255.404150</td>\n",
       "      <td>254.718071</td>\n",
       "      <td>249.247868</td>\n",
       "      <td>246.316732</td>\n",
       "      <td>242.677113</td>\n",
       "    </tr>\n",
       "    <tr>\n",
       "      <th>sex</th>\n",
       "      <td>32.921124</td>\n",
       "      <td>85.672744</td>\n",
       "      <td>354.229727</td>\n",
       "      <td>368.856369</td>\n",
       "      <td>239.126767</td>\n",
       "    </tr>\n",
       "    <tr>\n",
       "      <th>region</th>\n",
       "      <td>-350.248302</td>\n",
       "      <td>-348.636079</td>\n",
       "      <td>-323.859260</td>\n",
       "      <td>-293.426259</td>\n",
       "      <td>-208.159413</td>\n",
       "    </tr>\n",
       "  </tbody>\n",
       "</table>\n",
       "</div>"
      ],
      "text/plain": [
       "            alpha:0.07     alpha:0.1     alpha:0.5      alpha:1      alpha:3\n",
       "smoker    21084.112769  20095.331567  12370.988170  8359.962488  3641.135569\n",
       "children    479.134934    478.635500    460.949588   430.587605   328.718356\n",
       "bmi         332.814278    332.905854    333.431965   332.966131   328.074827\n",
       "age         255.404150    254.718071    249.247868   246.316732   242.677113\n",
       "sex          32.921124     85.672744    354.229727   368.856369   239.126767\n",
       "region     -350.248302   -348.636079   -323.859260  -293.426259  -208.159413"
      ]
     },
     "execution_count": 65,
     "metadata": {},
     "output_type": "execute_result"
    }
   ],
   "source": [
    "# 반환된 coeff_elastic_df를 첫번째 컬럼순으로 내림차순 정렬하여 회귀계수 DataFrame출력\n",
    "sort_column = 'alpha:'+str(elastic_alphas[0])\n",
    "coeff_elastic_df.sort_values(by=sort_column, ascending=False)"
   ]
  },
  {
   "cell_type": "markdown",
   "id": "4545cd79",
   "metadata": {},
   "source": [
    "### 선형 회귀 모델을 위한 데이터 변환"
   ]
  },
  {
   "cell_type": "code",
   "execution_count": 66,
   "id": "08f89ad9",
   "metadata": {},
   "outputs": [],
   "source": [
    "from sklearn.preprocessing import StandardScaler, MinMaxScaler, PolynomialFeatures\n",
    "\n",
    "# method는 표준 정규 분포 변환(Standard), 최대값/최소값 정규화(MinMax), 로그변환(Log) 결정\n",
    "# p_degree는 다향식 특성을 추가할 때 적용. p_degree는 2이상 부여하지 않음. \n",
    "def get_scaled_data(method='None', p_degree=None, input_data=None):\n",
    "    if method == 'Standard':\n",
    "        scaled_data = StandardScaler().fit_transform(input_data)\n",
    "    elif method == 'MinMax':\n",
    "        scaled_data = MinMaxScaler().fit_transform(input_data)\n",
    "    elif method == 'Log':\n",
    "        scaled_data = np.log1p(input_data)\n",
    "    else:\n",
    "        scaled_data = input_data\n",
    "\n",
    "    if p_degree != None:\n",
    "        scaled_data = PolynomialFeatures(degree=p_degree, \n",
    "                                         include_bias=False).fit_transform(scaled_data)\n",
    "    \n",
    "    return scaled_data"
   ]
  },
  {
   "cell_type": "code",
   "execution_count": 68,
   "id": "96c9fbbc",
   "metadata": {
    "scrolled": true
   },
   "outputs": [
    {
     "name": "stdout",
     "output_type": "stream",
     "text": [
      "\n",
      "## 변환 유형:None, Polynomial Degree:None\n",
      "alpha 0.1일 때 5 폴드 세트의 평균 RMSE: 6068.394 \n",
      "alpha 1일 때 5 폴드 세트의 평균 RMSE: 6068.720 \n",
      "alpha 10일 때 5 폴드 세트의 평균 RMSE: 6091.809 \n",
      "alpha 100일 때 5 폴드 세트의 평균 RMSE: 7014.860 \n",
      "\n",
      "## 변환 유형:Standard, Polynomial Degree:None\n",
      "alpha 0.1일 때 5 폴드 세트의 평균 RMSE: 6068.381 \n",
      "alpha 1일 때 5 폴드 세트의 평균 RMSE: 6068.378 \n",
      "alpha 10일 때 5 폴드 세트의 평균 RMSE: 6069.040 \n",
      "alpha 100일 때 5 폴드 세트의 평균 RMSE: 6133.446 \n",
      "\n",
      "## 변환 유형:Standard, Polynomial Degree:2\n",
      "alpha 0.1일 때 5 폴드 세트의 평균 RMSE: 4840.885 \n",
      "alpha 1일 때 5 폴드 세트의 평균 RMSE: 4840.729 \n",
      "alpha 10일 때 5 폴드 세트의 평균 RMSE: 4839.584 \n",
      "alpha 100일 때 5 폴드 세트의 평균 RMSE: 4862.015 \n",
      "\n",
      "## 변환 유형:MinMax, Polynomial Degree:None\n",
      "alpha 0.1일 때 5 폴드 세트의 평균 RMSE: 6068.365 \n",
      "alpha 1일 때 5 폴드 세트의 평균 RMSE: 6068.868 \n",
      "alpha 10일 때 5 폴드 세트의 평균 RMSE: 6119.802 \n",
      "alpha 100일 때 5 폴드 세트의 평균 RMSE: 7420.472 \n",
      "\n",
      "## 변환 유형:MinMax, Polynomial Degree:2\n",
      "alpha 0.1일 때 5 폴드 세트의 평균 RMSE: 4837.983 \n",
      "alpha 1일 때 5 폴드 세트의 평균 RMSE: 4866.799 \n",
      "alpha 10일 때 5 폴드 세트의 평균 RMSE: 5361.101 \n",
      "alpha 100일 때 5 폴드 세트의 평균 RMSE: 6171.782 \n",
      "\n",
      "## 변환 유형:Log, Polynomial Degree:None\n",
      "alpha 0.1일 때 5 폴드 세트의 평균 RMSE: 6140.517 \n",
      "alpha 1일 때 5 폴드 세트의 평균 RMSE: 6141.754 \n",
      "alpha 10일 때 5 폴드 세트의 평균 RMSE: 6242.638 \n",
      "alpha 100일 때 5 폴드 세트의 평균 RMSE: 8308.104 \n"
     ]
    }
   ],
   "source": [
    "# Ridge의 alpha값을 다르게 적용하고 다양한 데이터 변환방법에 따른 RMSE 추출. \n",
    "alphas = [0.1, 1, 10, 100]\n",
    "#변환 방법은 모두 6개, 원본 그대로, 표준정규분포, 표준정규분포+다항식 특성\n",
    "# 최대/최소 정규화, 최대/최소 정규화+다항식 특성, 로그변환 \n",
    "scale_methods=[(None, None), ('Standard', None), ('Standard', 2), \n",
    "               ('MinMax', None), ('MinMax', 2), ('Log', None)]\n",
    "for scale_method in scale_methods:\n",
    "    X_data_scaled = get_scaled_data(method=scale_method[0], p_degree=scale_method[1], \n",
    "                                    input_data=x)\n",
    "    print('\\n## 변환 유형:{0}, Polynomial Degree:{1}'.format(scale_method[0], scale_method[1]))\n",
    "    get_linear_reg_eval('Ridge', params=alphas, X_data_n=X_data_scaled, \n",
    "                        y_target_n=y, verbose=False)"
   ]
  },
  {
   "cell_type": "markdown",
   "id": "a895fb6f",
   "metadata": {},
   "source": [
    "## 부스팅 알고리즘 (회귀)"
   ]
  },
  {
   "cell_type": "code",
   "execution_count": 11,
   "id": "705ea80b",
   "metadata": {},
   "outputs": [],
   "source": [
    "from sklearn.model_selection import train_test_split\n",
    "from sklearn.metrics import r2_score,mean_squared_error"
   ]
  },
  {
   "cell_type": "code",
   "execution_count": 12,
   "id": "fab23a63",
   "metadata": {},
   "outputs": [],
   "source": [
    "x = data.drop(['charges'], axis = 1)\n",
    "y = data.charges\n",
    "\n",
    "x_train,x_test,y_train,y_test = train_test_split(x,y, random_state = 0)"
   ]
  },
  {
   "cell_type": "code",
   "execution_count": 70,
   "id": "58911f7d",
   "metadata": {},
   "outputs": [
    {
     "data": {
      "text/plain": [
       "(1003, 6)"
      ]
     },
     "execution_count": 70,
     "metadata": {},
     "output_type": "execute_result"
    }
   ],
   "source": [
    "x_train.shape"
   ]
  },
  {
   "cell_type": "code",
   "execution_count": 75,
   "id": "c65fdb08",
   "metadata": {},
   "outputs": [
    {
     "data": {
      "text/html": [
       "<div>\n",
       "<style scoped>\n",
       "    .dataframe tbody tr th:only-of-type {\n",
       "        vertical-align: middle;\n",
       "    }\n",
       "\n",
       "    .dataframe tbody tr th {\n",
       "        vertical-align: top;\n",
       "    }\n",
       "\n",
       "    .dataframe thead th {\n",
       "        text-align: right;\n",
       "    }\n",
       "</style>\n",
       "<table border=\"1\" class=\"dataframe\">\n",
       "  <thead>\n",
       "    <tr style=\"text-align: right;\">\n",
       "      <th></th>\n",
       "      <th>age</th>\n",
       "      <th>sex</th>\n",
       "      <th>bmi</th>\n",
       "      <th>children</th>\n",
       "      <th>smoker</th>\n",
       "      <th>region</th>\n",
       "    </tr>\n",
       "  </thead>\n",
       "  <tbody>\n",
       "    <tr>\n",
       "      <th>count</th>\n",
       "      <td>1003.000000</td>\n",
       "      <td>1003.000000</td>\n",
       "      <td>1003.000000</td>\n",
       "      <td>1003.000000</td>\n",
       "      <td>1003.000000</td>\n",
       "      <td>1003.000000</td>\n",
       "    </tr>\n",
       "    <tr>\n",
       "      <th>mean</th>\n",
       "      <td>39.235294</td>\n",
       "      <td>0.492522</td>\n",
       "      <td>30.719766</td>\n",
       "      <td>1.076770</td>\n",
       "      <td>0.202393</td>\n",
       "      <td>1.568295</td>\n",
       "    </tr>\n",
       "    <tr>\n",
       "      <th>std</th>\n",
       "      <td>14.060124</td>\n",
       "      <td>0.500193</td>\n",
       "      <td>6.233512</td>\n",
       "      <td>1.207548</td>\n",
       "      <td>0.401984</td>\n",
       "      <td>1.105273</td>\n",
       "    </tr>\n",
       "    <tr>\n",
       "      <th>min</th>\n",
       "      <td>18.000000</td>\n",
       "      <td>0.000000</td>\n",
       "      <td>15.960000</td>\n",
       "      <td>0.000000</td>\n",
       "      <td>0.000000</td>\n",
       "      <td>0.000000</td>\n",
       "    </tr>\n",
       "    <tr>\n",
       "      <th>25%</th>\n",
       "      <td>26.500000</td>\n",
       "      <td>0.000000</td>\n",
       "      <td>26.302500</td>\n",
       "      <td>0.000000</td>\n",
       "      <td>0.000000</td>\n",
       "      <td>1.000000</td>\n",
       "    </tr>\n",
       "    <tr>\n",
       "      <th>50%</th>\n",
       "      <td>39.000000</td>\n",
       "      <td>0.000000</td>\n",
       "      <td>30.300000</td>\n",
       "      <td>1.000000</td>\n",
       "      <td>0.000000</td>\n",
       "      <td>2.000000</td>\n",
       "    </tr>\n",
       "    <tr>\n",
       "      <th>75%</th>\n",
       "      <td>51.000000</td>\n",
       "      <td>1.000000</td>\n",
       "      <td>34.800000</td>\n",
       "      <td>2.000000</td>\n",
       "      <td>0.000000</td>\n",
       "      <td>3.000000</td>\n",
       "    </tr>\n",
       "    <tr>\n",
       "      <th>max</th>\n",
       "      <td>64.000000</td>\n",
       "      <td>1.000000</td>\n",
       "      <td>53.130000</td>\n",
       "      <td>5.000000</td>\n",
       "      <td>1.000000</td>\n",
       "      <td>3.000000</td>\n",
       "    </tr>\n",
       "  </tbody>\n",
       "</table>\n",
       "</div>"
      ],
      "text/plain": [
       "               age          sex          bmi     children       smoker  \\\n",
       "count  1003.000000  1003.000000  1003.000000  1003.000000  1003.000000   \n",
       "mean     39.235294     0.492522    30.719766     1.076770     0.202393   \n",
       "std      14.060124     0.500193     6.233512     1.207548     0.401984   \n",
       "min      18.000000     0.000000    15.960000     0.000000     0.000000   \n",
       "25%      26.500000     0.000000    26.302500     0.000000     0.000000   \n",
       "50%      39.000000     0.000000    30.300000     1.000000     0.000000   \n",
       "75%      51.000000     1.000000    34.800000     2.000000     0.000000   \n",
       "max      64.000000     1.000000    53.130000     5.000000     1.000000   \n",
       "\n",
       "            region  \n",
       "count  1003.000000  \n",
       "mean      1.568295  \n",
       "std       1.105273  \n",
       "min       0.000000  \n",
       "25%       1.000000  \n",
       "50%       2.000000  \n",
       "75%       3.000000  \n",
       "max       3.000000  "
      ]
     },
     "execution_count": 75,
     "metadata": {},
     "output_type": "execute_result"
    }
   ],
   "source": [
    "x_train.describe()"
   ]
  },
  {
   "cell_type": "code",
   "execution_count": 76,
   "id": "29ecb8e7",
   "metadata": {},
   "outputs": [
    {
     "data": {
      "text/html": [
       "<div>\n",
       "<style scoped>\n",
       "    .dataframe tbody tr th:only-of-type {\n",
       "        vertical-align: middle;\n",
       "    }\n",
       "\n",
       "    .dataframe tbody tr th {\n",
       "        vertical-align: top;\n",
       "    }\n",
       "\n",
       "    .dataframe thead th {\n",
       "        text-align: right;\n",
       "    }\n",
       "</style>\n",
       "<table border=\"1\" class=\"dataframe\">\n",
       "  <thead>\n",
       "    <tr style=\"text-align: right;\">\n",
       "      <th></th>\n",
       "      <th>age</th>\n",
       "      <th>sex</th>\n",
       "      <th>bmi</th>\n",
       "      <th>children</th>\n",
       "      <th>smoker</th>\n",
       "      <th>region</th>\n",
       "    </tr>\n",
       "  </thead>\n",
       "  <tbody>\n",
       "    <tr>\n",
       "      <th>count</th>\n",
       "      <td>335.000000</td>\n",
       "      <td>335.000000</td>\n",
       "      <td>335.000000</td>\n",
       "      <td>335.000000</td>\n",
       "      <td>335.000000</td>\n",
       "      <td>335.000000</td>\n",
       "    </tr>\n",
       "    <tr>\n",
       "      <th>mean</th>\n",
       "      <td>39.122388</td>\n",
       "      <td>0.543284</td>\n",
       "      <td>30.494627</td>\n",
       "      <td>1.149254</td>\n",
       "      <td>0.211940</td>\n",
       "      <td>1.358209</td>\n",
       "    </tr>\n",
       "    <tr>\n",
       "      <th>std</th>\n",
       "      <td>14.040146</td>\n",
       "      <td>0.498868</td>\n",
       "      <td>5.679325</td>\n",
       "      <td>1.199473</td>\n",
       "      <td>0.409294</td>\n",
       "      <td>1.090260</td>\n",
       "    </tr>\n",
       "    <tr>\n",
       "      <th>min</th>\n",
       "      <td>18.000000</td>\n",
       "      <td>0.000000</td>\n",
       "      <td>17.195000</td>\n",
       "      <td>0.000000</td>\n",
       "      <td>0.000000</td>\n",
       "      <td>0.000000</td>\n",
       "    </tr>\n",
       "    <tr>\n",
       "      <th>25%</th>\n",
       "      <td>27.000000</td>\n",
       "      <td>0.000000</td>\n",
       "      <td>26.267500</td>\n",
       "      <td>0.000000</td>\n",
       "      <td>0.000000</td>\n",
       "      <td>0.000000</td>\n",
       "    </tr>\n",
       "    <tr>\n",
       "      <th>50%</th>\n",
       "      <td>39.000000</td>\n",
       "      <td>1.000000</td>\n",
       "      <td>30.590000</td>\n",
       "      <td>1.000000</td>\n",
       "      <td>0.000000</td>\n",
       "      <td>1.000000</td>\n",
       "    </tr>\n",
       "    <tr>\n",
       "      <th>75%</th>\n",
       "      <td>51.000000</td>\n",
       "      <td>1.000000</td>\n",
       "      <td>34.307500</td>\n",
       "      <td>2.000000</td>\n",
       "      <td>0.000000</td>\n",
       "      <td>2.000000</td>\n",
       "    </tr>\n",
       "    <tr>\n",
       "      <th>max</th>\n",
       "      <td>64.000000</td>\n",
       "      <td>1.000000</td>\n",
       "      <td>46.530000</td>\n",
       "      <td>5.000000</td>\n",
       "      <td>1.000000</td>\n",
       "      <td>3.000000</td>\n",
       "    </tr>\n",
       "  </tbody>\n",
       "</table>\n",
       "</div>"
      ],
      "text/plain": [
       "              age         sex         bmi    children      smoker      region\n",
       "count  335.000000  335.000000  335.000000  335.000000  335.000000  335.000000\n",
       "mean    39.122388    0.543284   30.494627    1.149254    0.211940    1.358209\n",
       "std     14.040146    0.498868    5.679325    1.199473    0.409294    1.090260\n",
       "min     18.000000    0.000000   17.195000    0.000000    0.000000    0.000000\n",
       "25%     27.000000    0.000000   26.267500    0.000000    0.000000    0.000000\n",
       "50%     39.000000    1.000000   30.590000    1.000000    0.000000    1.000000\n",
       "75%     51.000000    1.000000   34.307500    2.000000    0.000000    2.000000\n",
       "max     64.000000    1.000000   46.530000    5.000000    1.000000    3.000000"
      ]
     },
     "execution_count": 76,
     "metadata": {},
     "output_type": "execute_result"
    }
   ],
   "source": [
    "x_test.describe()"
   ]
  },
  {
   "cell_type": "code",
   "execution_count": 23,
   "id": "57e11eb4",
   "metadata": {},
   "outputs": [],
   "source": [
    "def get_model_cv_prediction_rmse(model, X_data, y_target):\n",
    "    from sklearn.model_selection import cross_val_score\n",
    "    neg_mse_scores = cross_val_score(model, X_data, y_target, scoring=\"neg_mean_squared_error\", cv = 5)\n",
    "    rmse_scores  = np.sqrt(-1 * neg_mse_scores)\n",
    "    avg_rmse = np.mean(rmse_scores)\n",
    "    print('##### ',model.__class__.__name__ , ' #####')\n",
    "    print(' 5 교차 검증의 평균 RMSE : {0:.3f} '.format(avg_rmse))"
   ]
  },
  {
   "cell_type": "code",
   "execution_count": 24,
   "id": "d9cb17dc",
   "metadata": {},
   "outputs": [],
   "source": [
    "def get_model_cv_prediction_r2(model, X_data, y_target):\n",
    "    from sklearn.model_selection import cross_val_score\n",
    "    r2_scores = cross_val_score(model, X_data, y_target, scoring=\"r2\", cv = 5)\n",
    "    avg_rmse = np.mean(r2_scores)\n",
    "    print('##### ',model.__class__.__name__ , ' #####')\n",
    "    print(' 5 교차 검증의 평균 R2 : {0:.3f} '.format(avg_rmse))"
   ]
  },
  {
   "cell_type": "markdown",
   "id": "4adabd75",
   "metadata": {},
   "source": [
    "### AdaBoost"
   ]
  },
  {
   "cell_type": "code",
   "execution_count": 49,
   "id": "99a70d2e",
   "metadata": {},
   "outputs": [
    {
     "name": "stdout",
     "output_type": "stream",
     "text": [
      "train R2: 0.837\n",
      "test R2: 0.877\n",
      "소요시간: 0.05469\n"
     ]
    }
   ],
   "source": [
    "from sklearn.ensemble import AdaBoostRegressor \n",
    "import time\n",
    "\n",
    "start_time = time.time()\n",
    "\n",
    "ada_reg = AdaBoostRegressor(random_state = 0)\n",
    "ada_reg.fit(x_train, y_train)\n",
    "\n",
    "y_train_pred = ada_reg.predict(x_train)\n",
    "y_test_pred = ada_reg.predict(x_test)\n",
    "\n",
    "print('train R2:', round(r2_score(y_train, y_train_pred),3))\n",
    "print('test R2:', round(r2_score(y_test, y_test_pred),3))\n",
    "\n",
    "print('소요시간:', round(time.time()-start_time,5))"
   ]
  },
  {
   "cell_type": "code",
   "execution_count": 47,
   "id": "0648d847",
   "metadata": {
    "scrolled": true
   },
   "outputs": [
    {
     "name": "stdout",
     "output_type": "stream",
     "text": [
      "#####  AdaBoostRegressor  #####\n",
      " 5 교차 검증의 평균 R2 : 0.795 \n",
      "#####  AdaBoostRegressor  #####\n",
      " 5 교차 검증의 평균 RMSE : 5182.996 \n"
     ]
    }
   ],
   "source": [
    "get_model_cv_prediction_r2(ada_reg, x_test, y_test)\n",
    "get_model_cv_prediction_rmse(ada_reg, x_test, y_test)"
   ]
  },
  {
   "cell_type": "markdown",
   "id": "0db39bfa",
   "metadata": {},
   "source": [
    "### GBM "
   ]
  },
  {
   "cell_type": "code",
   "execution_count": 50,
   "id": "82673289",
   "metadata": {},
   "outputs": [
    {
     "name": "stdout",
     "output_type": "stream",
     "text": [
      "train R2: 0.899\n",
      "test R2: 0.898\n",
      "소요시간: 0.18943\n"
     ]
    }
   ],
   "source": [
    "from sklearn.ensemble import GradientBoostingRegressor\n",
    "\n",
    "start_time = time.time()\n",
    "\n",
    "gbm_reg = GradientBoostingRegressor(random_state = 0)\n",
    "gbm_reg.fit(x_train, y_train)\n",
    "\n",
    "y_train_pred = gbm_reg.predict(x_train)\n",
    "y_test_pred = gbm_reg.predict(x_test)\n",
    "\n",
    "print('train R2:', round(r2_score(y_train, y_train_pred),3))\n",
    "print('test R2:', round(r2_score(y_test, y_test_pred),3))\n",
    "print('소요시간:', round(time.time()-start_time,5))"
   ]
  },
  {
   "cell_type": "code",
   "execution_count": 37,
   "id": "2815e08c",
   "metadata": {
    "scrolled": false
   },
   "outputs": [
    {
     "name": "stdout",
     "output_type": "stream",
     "text": [
      "#####  GradientBoostingRegressor  #####\n",
      " 5 교차 검증의 평균 R2 : 0.857 \n",
      "#####  GradientBoostingRegressor  #####\n",
      " 5 교차 검증의 평균 RMSE : 4342.541 \n"
     ]
    }
   ],
   "source": [
    "get_model_cv_prediction_r2(gbm_reg, x_test, y_test)\n",
    "get_model_cv_prediction_rmse(gbm_reg, x_test, y_test)"
   ]
  },
  {
   "cell_type": "markdown",
   "id": "2990887a",
   "metadata": {},
   "source": [
    "### XGBoost"
   ]
  },
  {
   "cell_type": "code",
   "execution_count": 55,
   "id": "3afa9661",
   "metadata": {
    "scrolled": true
   },
   "outputs": [
    {
     "name": "stdout",
     "output_type": "stream",
     "text": [
      "train R2: 0.891\n",
      "test R2: 0.9\n",
      "소요시간: 0.0981\n"
     ]
    }
   ],
   "source": [
    "from xgboost import XGBRegressor \n",
    "\n",
    "start_time = time.time()\n",
    "\n",
    "xgb_reg = XGBRegressor(objective='reg:squarederror')\n",
    "xgb_reg.fit(x_train, y_train)\n",
    "\n",
    "y_train_pred = xgb_reg.predict(x_train)\n",
    "y_test_pred = xgb_reg.predict(x_test)\n",
    "\n",
    "print('train R2:', round(r2_score(y_train, y_train_pred),3))\n",
    "print('test R2:', round(r2_score(y_test, y_test_pred),3))\n",
    "print('소요시간:', round(time.time()-start_time,5))"
   ]
  },
  {
   "cell_type": "code",
   "execution_count": 42,
   "id": "488b9599",
   "metadata": {},
   "outputs": [
    {
     "name": "stdout",
     "output_type": "stream",
     "text": [
      "#####  XGBRegressor  #####\n",
      " 5 교차 검증의 평균 R2 : 0.858 \n",
      "#####  XGBRegressor  #####\n",
      " 5 교차 검증의 평균 RMSE : 4355.758 \n"
     ]
    }
   ],
   "source": [
    "get_model_cv_prediction_r2(xgb_reg, x_test, y_test)\n",
    "get_model_cv_prediction_rmse(xgb_reg, x_test, y_test)"
   ]
  },
  {
   "cell_type": "markdown",
   "id": "b155f9f9",
   "metadata": {},
   "source": [
    "### LGBM"
   ]
  },
  {
   "cell_type": "code",
   "execution_count": 56,
   "id": "7912ccc4",
   "metadata": {},
   "outputs": [
    {
     "name": "stdout",
     "output_type": "stream",
     "text": [
      "train R2: 0.938\n",
      "test R2: 0.88\n",
      "소요시간: 0.17802\n"
     ]
    }
   ],
   "source": [
    "from lightgbm import LGBMRegressor\n",
    "\n",
    "start_time = time.time()\n",
    "\n",
    "lgb_reg = LGBMRegressor()\n",
    "lgb_reg.fit(x_train, y_train)\n",
    "\n",
    "y_train_pred = lgb_reg.predict(x_train)\n",
    "y_test_pred = lgb_reg.predict(x_test)\n",
    "\n",
    "print('train R2:', round(r2_score(y_train, y_train_pred),3))\n",
    "print('test R2:', round(r2_score(y_test, y_test_pred),3))\n",
    "print('소요시간:', round(time.time()-start_time,5))"
   ]
  },
  {
   "cell_type": "code",
   "execution_count": 44,
   "id": "ccd106d7",
   "metadata": {
    "scrolled": false
   },
   "outputs": [
    {
     "name": "stdout",
     "output_type": "stream",
     "text": [
      "#####  LGBMRegressor  #####\n",
      " 5 교차 검증의 평균 R2 : 0.875 \n",
      "#####  LGBMRegressor  #####\n",
      " 5 교차 검증의 평균 RMSE : 4112.329 \n"
     ]
    }
   ],
   "source": [
    "get_model_cv_prediction_r2(lgb_reg, x_test, y_test)\n",
    "get_model_cv_prediction_rmse(lgb_reg, x_test, y_test)"
   ]
  },
  {
   "cell_type": "markdown",
   "id": "1036f406",
   "metadata": {},
   "source": [
    "### 알고리즘 비교"
   ]
  },
  {
   "cell_type": "markdown",
   "id": "60448809",
   "metadata": {},
   "source": [
    "- **R2 기준 train 성능:** LGBM(0.938) > GBM(0.899) > XGBoost(0.891) > AdaBoost(0.837)\n",
    "- **R2 기준 test 성능 (5-fold):** LGBM(0.875)> XGBoost(0.858) > GBM(0.857) > AdaBoost(0.795)\n",
    "- **RMSE 기준 test 성능(5-fold):** LGBM(4112.329) < GBM(4342.541) < XGBoost(4355.758) < AdaBoost(5182.996)\n",
    "- **소요시간:** AdaBoost(0.05469) < XGBoost(0.0981) < LGBM(0.17802) < GBM(0.18943)\n",
    "\n",
    "LGBM 선택!\n",
    "\n",
    "**하이퍼 파라미터 튜닝 후 알고리즘 성능을 비교하지 않은 이유:** 앙상블 계열 알고리즘은 기본적으로 과적합이나 노이즈에 뛰어난 알고리즘이기 때문에, 하이퍼 파라미터 튜닝으로 성능 수치 개선이 급격히 되는 경우는 많지 않음. 성능 차이가 별로 없으므로 알고리즘을 미리 선택하는 것이 더 효율적일 것으로 생각"
   ]
  },
  {
   "cell_type": "markdown",
   "id": "987c3b77",
   "metadata": {},
   "source": [
    "### LGBM 하이퍼파라미터 튜닝"
   ]
  },
  {
   "cell_type": "code",
   "execution_count": 60,
   "id": "d6706692",
   "metadata": {
    "scrolled": true
   },
   "outputs": [
    {
     "data": {
      "text/plain": [
       "{'boosting_type': 'gbdt',\n",
       " 'class_weight': None,\n",
       " 'colsample_bytree': 1.0,\n",
       " 'importance_type': 'split',\n",
       " 'learning_rate': 0.1,\n",
       " 'max_depth': -1,\n",
       " 'min_child_samples': 20,\n",
       " 'min_child_weight': 0.001,\n",
       " 'min_split_gain': 0.0,\n",
       " 'n_estimators': 100,\n",
       " 'n_jobs': -1,\n",
       " 'num_leaves': 31,\n",
       " 'objective': None,\n",
       " 'random_state': None,\n",
       " 'reg_alpha': 0.0,\n",
       " 'reg_lambda': 0.0,\n",
       " 'silent': True,\n",
       " 'subsample': 1.0,\n",
       " 'subsample_for_bin': 200000,\n",
       " 'subsample_freq': 0}"
      ]
     },
     "execution_count": 60,
     "metadata": {},
     "output_type": "execute_result"
    }
   ],
   "source": [
    "lgb_reg.get_params()"
   ]
  },
  {
   "cell_type": "code",
   "execution_count": 68,
   "id": "25a77ad6",
   "metadata": {},
   "outputs": [
    {
     "name": "stdout",
     "output_type": "stream",
     "text": [
      "LGBMRegressor(max_depth=3, n_estimators=50, num_leaves=21, random_state=0)\n",
      "0.906\n"
     ]
    }
   ],
   "source": [
    "from sklearn.model_selection import GridSearchCV\n",
    "\n",
    "params = {\n",
    "    'num_leaves': [21, 31, 50],\n",
    "    'learning_rate': [0.1, 0.03, 0.003],\n",
    "    'max_depth': [-1, 3, 5],\n",
    "    'n_estimators': [50, 100, 300],\n",
    "}\n",
    "\n",
    "grid = GridSearchCV(LGBMRegressor(random_state=0), params, scoring='r2', cv=5)\n",
    "grid.fit(x_train, y_train)\n",
    "\n",
    "print(grid.best_estimator_)\n",
    "print(round(r2_score(y_test, grid.predict(x_test)),3))"
   ]
  },
  {
   "cell_type": "markdown",
   "id": "eb392101",
   "metadata": {},
   "source": [
    "- 튜닝 전 기본 하이퍼파라미터 R2값: 0.875\n",
    "- 튜닝 후 R2 값: 0.906"
   ]
  },
  {
   "cell_type": "markdown",
   "id": "3d042cf1",
   "metadata": {},
   "source": [
    "## 배깅 알고리즘 (회귀)"
   ]
  },
  {
   "cell_type": "code",
   "execution_count": 45,
   "id": "42f0b584",
   "metadata": {},
   "outputs": [],
   "source": [
    "from sklearn.model_selection import train_test_split, StratifiedKFold, GridSearchCV, RandomizedSearchCV\n",
    "from sklearn.preprocessing import StandardScaler\n",
    "from sklearn.metrics import r2_score\n",
    "from sklearn import metrics"
   ]
  },
  {
   "cell_type": "code",
   "execution_count": 36,
   "id": "157f7dc7",
   "metadata": {
    "ExecuteTime": {
     "end_time": "2021-05-28T04:47:47.528678Z",
     "start_time": "2021-05-28T04:47:47.514577Z"
    }
   },
   "outputs": [],
   "source": [
    "X_train, X_test, Y_train, Y_test = train_test_split(X, y, test_size = 0.2, random_state = 20)"
   ]
  },
  {
   "cell_type": "markdown",
   "id": "390b28b4",
   "metadata": {},
   "source": [
    "**RandomForestRegressor**"
   ]
  },
  {
   "cell_type": "code",
   "execution_count": 37,
   "id": "81a92c17",
   "metadata": {
    "ExecuteTime": {
     "end_time": "2021-05-28T04:47:47.829720Z",
     "start_time": "2021-05-28T04:47:47.530676Z"
    }
   },
   "outputs": [
    {
     "name": "stdout",
     "output_type": "stream",
     "text": [
      "r_square score -->  0.8816434483599419\n",
      "Mean Squared Error --> 17797637.57277287\n"
     ]
    }
   ],
   "source": [
    "rf = RandomForestRegressor()\n",
    "rf.fit(X_train, Y_train)\n",
    "rf_predict = rf.predict(X_test)\n",
    "score_rf = r2_score(Y_test,rf_predict)\n",
    "\n",
    "print(\"r_square score --> \",score_rf)\n",
    "print('Mean Squared Error -->', metrics.mean_squared_error(Y_test, rf_predict))"
   ]
  },
  {
   "cell_type": "markdown",
   "id": "74575420",
   "metadata": {},
   "source": [
    "**하이퍼파라미터 최적화**"
   ]
  },
  {
   "cell_type": "code",
   "execution_count": 38,
   "id": "d2880ac2",
   "metadata": {
    "ExecuteTime": {
     "end_time": "2021-05-28T04:47:47.845193Z",
     "start_time": "2021-05-28T04:47:47.832234Z"
    }
   },
   "outputs": [],
   "source": [
    "n_estimators = [10, 20, 30, 40, 50, 60, 70, 80, 90, 100]\n",
    "max_depth = [10, 20, 30, 40, 50, 60, 70, 80, 90, 100]\n",
    "min_samples_split = [2, 5, 10]\n",
    "\n",
    "rf_param_grid = {'n_estimators': n_estimators,\n",
    "               'max_depth': max_depth,\n",
    "               'min_samples_split': min_samples_split}"
   ]
  },
  {
   "cell_type": "code",
   "execution_count": 39,
   "id": "ff577195",
   "metadata": {
    "ExecuteTime": {
     "end_time": "2021-05-28T04:48:01.774899Z",
     "start_time": "2021-05-28T04:47:47.847187Z"
    }
   },
   "outputs": [
    {
     "name": "stdout",
     "output_type": "stream",
     "text": [
      "Fitting 3 folds for each of 100 candidates, totalling 300 fits\n"
     ]
    },
    {
     "name": "stderr",
     "output_type": "stream",
     "text": [
      "[Parallel(n_jobs=-1)]: Using backend LokyBackend with 8 concurrent workers.\n",
      "[Parallel(n_jobs=-1)]: Done  25 tasks      | elapsed:    3.8s\n",
      "[Parallel(n_jobs=-1)]: Done 146 tasks      | elapsed:    7.9s\n",
      "[Parallel(n_jobs=-1)]: Done 300 out of 300 | elapsed:   13.6s finished\n"
     ]
    }
   ],
   "source": [
    "rf = RandomForestRegressor()\n",
    "rf_random = RandomizedSearchCV(estimator = rf, param_distributions = rf_param_grid, n_iter = 100, cv = 3, verbose=2, random_state=42, n_jobs = -1)\n",
    "rf_random.fit(X_train, Y_train)\n",
    "rf_predict = rf_random.predict(X_test)\n",
    "score_rf = r2_score(Y_test,rf_predict)"
   ]
  },
  {
   "cell_type": "code",
   "execution_count": 40,
   "id": "860cdb3e",
   "metadata": {
    "ExecuteTime": {
     "end_time": "2021-05-28T04:48:01.790764Z",
     "start_time": "2021-05-28T04:48:01.775807Z"
    },
    "scrolled": true
   },
   "outputs": [
    {
     "name": "stdout",
     "output_type": "stream",
     "text": [
      "r_square score -->  0.8940358472027168\n",
      "Mean Squared Error --> 15934154.561441977\n"
     ]
    }
   ],
   "source": [
    "print(\"r_square score --> \",score_rf)\n",
    "print('Mean Squared Error -->', metrics.mean_squared_error(Y_test, rf_predict))"
   ]
  },
  {
   "cell_type": "markdown",
   "id": "7a83efaf",
   "metadata": {},
   "source": [
    "**StandardScaler**"
   ]
  },
  {
   "cell_type": "code",
   "execution_count": 41,
   "id": "549b6e61",
   "metadata": {
    "ExecuteTime": {
     "end_time": "2021-05-28T04:48:01.805927Z",
     "start_time": "2021-05-28T04:48:01.792257Z"
    }
   },
   "outputs": [],
   "source": [
    "sc = StandardScaler()\n",
    "X_train = sc.fit_transform(X_train) \n",
    "X_test = sc.transform(X_test) "
   ]
  },
  {
   "cell_type": "code",
   "execution_count": 42,
   "id": "803df5a4",
   "metadata": {
    "ExecuteTime": {
     "end_time": "2021-05-28T04:48:12.955283Z",
     "start_time": "2021-05-28T04:48:01.807952Z"
    }
   },
   "outputs": [
    {
     "name": "stdout",
     "output_type": "stream",
     "text": [
      "Fitting 3 folds for each of 100 candidates, totalling 300 fits\n"
     ]
    },
    {
     "name": "stderr",
     "output_type": "stream",
     "text": [
      "[Parallel(n_jobs=-1)]: Using backend LokyBackend with 8 concurrent workers.\n",
      "[Parallel(n_jobs=-1)]: Done  34 tasks      | elapsed:    1.6s\n",
      "[Parallel(n_jobs=-1)]: Done 276 tasks      | elapsed:    9.9s\n",
      "[Parallel(n_jobs=-1)]: Done 300 out of 300 | elapsed:   10.9s finished\n"
     ]
    }
   ],
   "source": [
    "rf = RandomForestRegressor()\n",
    "rf_random = RandomizedSearchCV(estimator = rf, param_distributions = rf_param_grid, n_iter = 100, cv = 3, verbose=2, random_state=42, n_jobs = -1)\n",
    "rf_random.fit(X_train, Y_train)\n",
    "rf_predict = rf_random.predict(X_test)\n",
    "score_rf = r2_score(Y_test,rf_predict)"
   ]
  },
  {
   "cell_type": "code",
   "execution_count": 43,
   "id": "77a1eb98",
   "metadata": {
    "ExecuteTime": {
     "end_time": "2021-05-28T04:48:12.970778Z",
     "start_time": "2021-05-28T04:48:12.958703Z"
    },
    "scrolled": true
   },
   "outputs": [
    {
     "name": "stdout",
     "output_type": "stream",
     "text": [
      "r_square score -->  0.8940855468225654\n",
      "Mean Squared Error --> 15926681.077217294\n"
     ]
    }
   ],
   "source": [
    "print(\"r_square score --> \",score_rf)\n",
    "print('Mean Squared Error -->', metrics.mean_squared_error(Y_test, rf_predict))"
   ]
  }
 ],
 "metadata": {
  "kernelspec": {
   "display_name": "Python 3",
   "language": "python",
   "name": "python3"
  },
  "language_info": {
   "codemirror_mode": {
    "name": "ipython",
    "version": 3
   },
   "file_extension": ".py",
   "mimetype": "text/x-python",
   "name": "python",
   "nbconvert_exporter": "python",
   "pygments_lexer": "ipython3",
   "version": "3.7.7"
  },
  "toc": {
   "base_numbering": 1,
   "nav_menu": {},
   "number_sections": true,
   "sideBar": true,
   "skip_h1_title": false,
   "title_cell": "Table of Contents",
   "title_sidebar": "Contents",
   "toc_cell": false,
   "toc_position": {
    "height": "calc(100% - 180px)",
    "left": "10px",
    "top": "150px",
    "width": "341.319px"
   },
   "toc_section_display": true,
   "toc_window_display": true
  },
  "varInspector": {
   "cols": {
    "lenName": 16,
    "lenType": 16,
    "lenVar": 40
   },
   "kernels_config": {
    "python": {
     "delete_cmd_postfix": "",
     "delete_cmd_prefix": "del ",
     "library": "var_list.py",
     "varRefreshCmd": "print(var_dic_list())"
    },
    "r": {
     "delete_cmd_postfix": ") ",
     "delete_cmd_prefix": "rm(",
     "library": "var_list.r",
     "varRefreshCmd": "cat(var_dic_list()) "
    }
   },
   "types_to_exclude": [
    "module",
    "function",
    "builtin_function_or_method",
    "instance",
    "_Feature"
   ],
   "window_display": false
  }
 },
 "nbformat": 4,
 "nbformat_minor": 5
}
