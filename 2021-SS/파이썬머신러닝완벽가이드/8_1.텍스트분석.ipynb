{
 "cells": [
  {
   "cell_type": "markdown",
   "id": "03887894",
   "metadata": {},
   "source": [
    "## NLP, 텍스트 분석"
   ]
  },
  {
   "cell_type": "markdown",
   "id": "fb87cf7b",
   "metadata": {},
   "source": [
    "구분을 굳이 할 필요는 없음.\n",
    "둘 다 기존 룰 기반에서 ML 기반으로 변함\n",
    "- NLP: 머신이 인간의 언어를 이해하고 해석하는 데 중점\n",
    "    - 기계 번역, QA 등\n",
    "- TA: 비정형 텍스트에서 의미 있는 정보 추출하는 데 중점\n",
    "    - 텍스트 분류\n",
    "    - 감성 분석\n",
    "    - 텍스트 요약\n",
    "    - 텍스트 군집화와 유사도 측정: 비지도 학습\n",
    "\n"
   ]
  },
  {
   "cell_type": "markdown",
   "id": "0671155b",
   "metadata": {},
   "source": [
    "# 텍스트 분석 이해"
   ]
  },
  {
   "cell_type": "markdown",
   "id": "d177556a",
   "metadata": {},
   "source": [
    "비정형 데이터인 텍스트를 머신러닝에 적용하기 위해서는 어떻게 피처 형태로 추철하고 추출한 피처에 의미있는 값을 부여하는지 중요함\n",
    "\n",
    "**<텍스트 분석 수행 프로세스>**\n",
    "1. 텍스트 전처리\n",
    "    - 클렌징: 대/소문자 변경, 특수문자 삭제 등\n",
    "    - 토크나이징\n",
    "    - stop word 제거\n",
    "    - stemming 작업\n",
    "2. 피처 벡터화/추출: 텍스트를 word 기반의 다수의 피처로 추출하고 숫자 값 부여\n",
    "    - BOW: count 기반 & TF-IDF 기반 \n",
    "    - Word2Vec\n",
    "\n",
    "**<파이썬 NLP, TA 패키지>**\n",
    "- NLTK: 방대한 데이터셋과 서브모듈. 속도 느림.\n",
    "- Gensim: 토픽 모델링 분야에서 사용. Word2Vec 등 구현 가능\n",
    "- SpaCy: 성능이 좋아 최근 많이 사용"
   ]
  },
  {
   "cell_type": "markdown",
   "id": "399fc5d2",
   "metadata": {},
   "source": [
    "# 텍스트 전처리 - 텍스트 정규화"
   ]
  },
  {
   "attachments": {
    "image.png": {
     "image/png": "[encoded data removed]"
    }
   },
   "cell_type": "markdown",
   "id": "ad8b71e2",
   "metadata": {},
   "source": [
    "**<텍스트 정규화 작업>**\n",
    "- 클렌징: 불필요한 문자, 기호 등 제거\n",
    "- 필터링/스톱 워드 제거/철자 수정\n",
    "- Stemming: 어간 추출 (ex. formalize → formal, allowance → allow). 품사 정보 보존 X.\n",
    "- Lemmatization: 표제어 추출 (ex. are/is → be). 품사 정보 보존함\n",
    "![image.png](attachment:image.png)"
   ]
  },
  {
   "cell_type": "markdown",
   "id": "8f23e52d",
   "metadata": {},
   "source": [
    "## 텍스트 토큰화"
   ]
  },
  {
   "cell_type": "markdown",
   "id": "2e19e7bc",
   "metadata": {},
   "source": [
    "### 문장 토큰화"
   ]
  },
  {
   "cell_type": "code",
   "execution_count": 39,
   "id": "7cdefac8",
   "metadata": {
    "scrolled": true
   },
   "outputs": [
    {
     "name": "stdout",
     "output_type": "stream",
     "text": [
      "<class 'list'> 3\n",
      "['The Matrix is everywhere its all around us, here even in this room.', 'You can see it out your window or on your television.', 'You feel it when you go to work, or go to church or pay your taxes.']\n"
     ]
    },
    {
     "name": "stderr",
     "output_type": "stream",
     "text": [
      "[nltk_data] Downloading package punkt to\n",
      "[nltk_data]     C:\\Users\\Hyunjung\\AppData\\Roaming\\nltk_data...\n",
      "[nltk_data]   Package punkt is already up-to-date!\n"
     ]
    }
   ],
   "source": [
    "import nltk \n",
    "from nltk import sent_tokenize\n",
    "\n",
    "nltk.download('punkt') #마침표, 개행문자(\\n 등) 등의 데이터셋 다운\n",
    "\n",
    "text_sample = 'The Matrix is everywhere its all around us, here even in this room. \\\n",
    "               You can see it out your window or on your television. \\\n",
    "               You feel it when you go to work, or go to church or pay your taxes.'\n",
    "sentences = sent_tokenize(text=text_sample)\n",
    "print(type(sentences),len(sentences))\n",
    "print(sentences)"
   ]
  },
  {
   "cell_type": "code",
   "execution_count": 40,
   "id": "9185327f",
   "metadata": {},
   "outputs": [
    {
     "name": "stdout",
     "output_type": "stream",
     "text": [
      "['딥러닝 자연어 처리가 재미있기는 합니다.', '그런데 문제는 영어보다 한국어로 할 때 너무 어려워요.', '농담아니에요', '이제 해보면 알걸요?']\n"
     ]
    }
   ],
   "source": [
    "import kss\n",
    "\n",
    "text='딥러닝 자연어 처리가 재미있기는 합니다. 그런데 문제는 영어보다 한국어로 할 때 너무 어려워요. 농담아니에요 이제 해보면 알걸요?'\n",
    "print(kss.split_sentences(text))"
   ]
  },
  {
   "cell_type": "markdown",
   "id": "c08c5771",
   "metadata": {},
   "source": [
    "### 단어 토큰화"
   ]
  },
  {
   "cell_type": "markdown",
   "id": "9d371839",
   "metadata": {},
   "source": [
    "기본적으로 공백, 콤마, 개행문자 등으로 단어를 분리"
   ]
  },
  {
   "cell_type": "code",
   "execution_count": 48,
   "id": "2aa8f0bc",
   "metadata": {},
   "outputs": [
    {
     "name": "stdout",
     "output_type": "stream",
     "text": [
      "<class 'list'> 19\n",
      "['The', 'Matrix', 'is', 'everywhere', 'its', 'all', 'around', 'us', ',', 'here', 'even', 'in', 'this', 'room', '.', 'Let', \"'s\", 'find', 'it']\n"
     ]
    }
   ],
   "source": [
    "from nltk import word_tokenize\n",
    "\n",
    "sentence = \"The Matrix is everywhere its all around us, here even in this room. Let's find it\"\n",
    "words = word_tokenize(sentence)\n",
    "print(type(words), len(words))\n",
    "print(words)"
   ]
  },
  {
   "cell_type": "markdown",
   "id": "69795f98",
   "metadata": {},
   "source": [
    "<문장 + 단어 토큰화>"
   ]
  },
  {
   "cell_type": "code",
   "execution_count": 3,
   "id": "ede71db6",
   "metadata": {
    "scrolled": true
   },
   "outputs": [
    {
     "name": "stdout",
     "output_type": "stream",
     "text": [
      "<class 'list'> 3\n",
      "[['The', 'Matrix', 'is', 'everywhere', 'its', 'all', 'around', 'us', ',', 'here', 'even', 'in', 'this', 'room', '.'], ['You', 'can', 'see', 'it', 'out', 'your', 'window', 'or', 'on', 'your', 'television', '.'], ['You', 'feel', 'it', 'when', 'you', 'go', 'to', 'work', ',', 'or', 'go', 'to', 'church', 'or', 'pay', 'your', 'taxes', '.']]\n"
     ]
    }
   ],
   "source": [
    "from nltk import word_tokenize, sent_tokenize\n",
    "\n",
    "#여러개의 문장으로 된 입력 데이터를 문장별로 단어 토큰화 만드는 함수 생성\n",
    "def tokenize_text(text):\n",
    "    \n",
    "    # 문장별로 분리 토큰\n",
    "    sentences = sent_tokenize(text)\n",
    "    # 분리된 문장별 단어 토큰화\n",
    "    word_tokens = [word_tokenize(sentence) for sentence in sentences]\n",
    "    return word_tokens\n",
    "\n",
    "#여러 문장들에 대해 문장별 단어 토큰화 수행. \n",
    "word_tokens = tokenize_text(text_sample)\n",
    "print(type(word_tokens),len(word_tokens))\n",
    "print(word_tokens)"
   ]
  },
  {
   "cell_type": "markdown",
   "id": "00777466",
   "metadata": {},
   "source": [
    "서로 붙어있는 단어들 사이의 문맥적인 의미는 무시됨. => n-gram으로 근접한 n개의 단어끼리 묶어서 분리하는 방법 고안"
   ]
  },
  {
   "cell_type": "code",
   "execution_count": 14,
   "id": "a930976e",
   "metadata": {
    "scrolled": true
   },
   "outputs": [
    {
     "name": "stdout",
     "output_type": "stream",
     "text": [
      "['ESAA', 'OB', '3조', '짱짱', '멋쟁이', '들', '~~~~']\n"
     ]
    }
   ],
   "source": [
    "from konlpy.tag import Okt  \n",
    "okt=Okt()\n",
    "print(okt.morphs(\"ESAA OB 3조 짱짱 멋쟁이들~~~~\"))"
   ]
  },
  {
   "cell_type": "code",
   "execution_count": 17,
   "id": "7e65f78b",
   "metadata": {
    "scrolled": true
   },
   "outputs": [
    {
     "name": "stdout",
     "output_type": "stream",
     "text": [
      "[('ESAA', 'SL'), ('OB', 'SL'), ('3', 'SN'), ('조', 'NNG'), ('짱짱', 'MAG'), ('멋쟁이', 'NNG'), ('들', 'XSN'), ('~~~~', 'SY')]\n"
     ]
    }
   ],
   "source": [
    "from eunjeon import Mecab\n",
    "mecab=Mecab()\n",
    "print(mecab.pos(\"ESAA OB 3조 짱짱 멋쟁이들~~~~\"))  "
   ]
  },
  {
   "cell_type": "markdown",
   "id": "7ef02156",
   "metadata": {},
   "source": [
    "[mecab 품사 태그](https://openuiz.tistory.com/90)"
   ]
  },
  {
   "cell_type": "markdown",
   "id": "49a9d2fd",
   "metadata": {},
   "source": [
    "## stop word 제거"
   ]
  },
  {
   "cell_type": "markdown",
   "id": "c114d165",
   "metadata": {},
   "source": [
    "분석에 큰 의미가 없는 제거. 의미가 없지만 빈도가 높아 제거하지 않으면 중요한 단어로 인식할 수 있음"
   ]
  },
  {
   "cell_type": "code",
   "execution_count": 4,
   "id": "bd2d6a30",
   "metadata": {},
   "outputs": [
    {
     "name": "stderr",
     "output_type": "stream",
     "text": [
      "[nltk_data] Downloading package stopwords to\n",
      "[nltk_data]     C:\\Users\\Hyunjung\\AppData\\Roaming\\nltk_data...\n",
      "[nltk_data]   Package stopwords is already up-to-date!\n"
     ]
    },
    {
     "data": {
      "text/plain": [
       "True"
      ]
     },
     "execution_count": 4,
     "metadata": {},
     "output_type": "execute_result"
    }
   ],
   "source": [
    "import nltk\n",
    "nltk.download('stopwords')"
   ]
  },
  {
   "cell_type": "code",
   "execution_count": 5,
   "id": "d97bcaf8",
   "metadata": {},
   "outputs": [
    {
     "name": "stdout",
     "output_type": "stream",
     "text": [
      "영어 stop words 갯수: 179\n",
      "['i', 'me', 'my', 'myself', 'we', 'our', 'ours', 'ourselves', 'you', \"you're\", \"you've\", \"you'll\", \"you'd\", 'your', 'yours', 'yourself', 'yourselves', 'he', 'him', 'his']\n"
     ]
    }
   ],
   "source": [
    "print('영어 stop words 갯수:',len(nltk.corpus.stopwords.words('english')))\n",
    "print(nltk.corpus.stopwords.words('english')[:20])"
   ]
  },
  {
   "cell_type": "code",
   "execution_count": 36,
   "id": "ee2754ba",
   "metadata": {},
   "outputs": [
    {
     "name": "stdout",
     "output_type": "stream",
     "text": [
      "[['The', 'Matrix', 'is', 'everywhere', 'its', 'all', 'around', 'us', ',', 'here', 'even', 'in', 'this', 'room', '.'], ['You', 'can', 'see', 'it', 'out', 'your', 'window', 'or', 'on', 'your', 'television', '.'], ['You', 'feel', 'it', 'when', 'you', 'go', 'to', 'work', ',', 'or', 'go', 'to', 'church', 'or', 'pay', 'your', 'taxes', '.']] \n",
      "\n",
      "[['matrix', 'everywhere', 'around', 'us', ',', 'even', 'room', '.'], ['see', 'window', 'television', '.'], ['feel', 'go', 'work', ',', 'go', 'church', 'pay', 'taxes', '.']]\n"
     ]
    }
   ],
   "source": [
    "import nltk\n",
    "\n",
    "stopwords = nltk.corpus.stopwords.words('english')\n",
    "all_tokens = []\n",
    "# 위 예제의 3개의 문장별로 얻은 word_tokens list 에 대해 stop word 제거 Loop\n",
    "for sentence in word_tokens:\n",
    "    filtered_words=[]\n",
    "    # 개별 문장별로 tokenize된 sentence list에 대해 stop word 제거 Loop\n",
    "    for word in sentence:\n",
    "        #소문자로 모두 변환합니다. \n",
    "        word = word.lower()\n",
    "        # tokenize 된 개별 word가 stop words 들의 단어에 포함되지 않으면 word_tokens에 추가\n",
    "        if word not in stopwords:\n",
    "            filtered_words.append(word)\n",
    "    all_tokens.append(filtered_words)\n",
    "\n",
    "print(word_tokens, '\\n')\n",
    "print(all_tokens)"
   ]
  },
  {
   "cell_type": "markdown",
   "id": "cb332d31",
   "metadata": {},
   "source": [
    "## Stemming과 Lemmatization"
   ]
  },
  {
   "cell_type": "markdown",
   "id": "2ea18579",
   "metadata": {},
   "source": [
    "단어의 원형을 찾음\n",
    "- Lemmatization이 더 의미적인 부분을 고려함"
   ]
  },
  {
   "cell_type": "code",
   "execution_count": 7,
   "id": "531ec8f8",
   "metadata": {},
   "outputs": [
    {
     "name": "stdout",
     "output_type": "stream",
     "text": [
      "work work work\n",
      "amus amus amus\n",
      "happy happiest\n",
      "fant fanciest\n"
     ]
    }
   ],
   "source": [
    "## Stemmeing\n",
    "from nltk.stem import LancasterStemmer\n",
    "stemmer = LancasterStbemmer()\n",
    "\n",
    "print(stemmer.stem('working'),stemmer.stem('works'),stemmer.stem('worked'))\n",
    "print(stemmer.stem('amusing'),stemmer.stem('amuses'),stemmer.stem('amused'))\n",
    "print(stemmer.stem('happier'),stemmer.stem('happiest'))\n",
    "print(stemmer.stem('fancier'),stemmer.stem('fanciest'))"
   ]
  },
  {
   "cell_type": "markdown",
   "id": "54edcc30",
   "metadata": {},
   "source": [
    "정확도 떨어짐"
   ]
  },
  {
   "cell_type": "code",
   "execution_count": 61,
   "id": "a71e158f",
   "metadata": {},
   "outputs": [
    {
     "name": "stdout",
     "output_type": "stream",
     "text": [
      "amuse amuse amuse\n",
      "happy happy\n",
      "fancy fancy\n"
     ]
    },
    {
     "name": "stderr",
     "output_type": "stream",
     "text": [
      "[nltk_data] Downloading package wordnet to\n",
      "[nltk_data]     C:\\Users\\Hyunjung\\AppData\\Roaming\\nltk_data...\n",
      "[nltk_data]   Package wordnet is already up-to-date!\n"
     ]
    }
   ],
   "source": [
    "## Lammatization\n",
    "from nltk.stem import WordNetLemmatizer\n",
    "import nltk\n",
    "nltk.download('wordnet')\n",
    "\n",
    "lemma = WordNetLemmatizer() # 품사 입력\n",
    "print(lemma.lemmatize('amusing','v'),lemma.lemmatize('amuses','v'),lemma.lemmatize('amused','v'))\n",
    "print(lemma.lemmatize('happier','a'),lemma.lemmatize('happiest','a'))\n",
    "print(lemma.lemmatize('fancier','a'),lemma.lemmatize('fanciest','a'))"
   ]
  },
  {
   "cell_type": "markdown",
   "id": "ad3e86aa",
   "metadata": {},
   "source": [
    "정확도 더 높음"
   ]
  }
 ],
 "metadata": {
  "kernelspec": {
   "display_name": "Python 3",
   "language": "python",
   "name": "python3"
  },
  "language_info": {
   "codemirror_mode": {
    "name": "ipython",
    "version": 3
   },
   "file_extension": ".py",
   "mimetype": "text/x-python",
   "name": "python",
   "nbconvert_exporter": "python",
   "pygments_lexer": "ipython3",
   "version": "3.7.7"
  },
  "toc": {
   "base_numbering": 1,
   "nav_menu": {},
   "number_sections": true,
   "sideBar": true,
   "skip_h1_title": false,
   "title_cell": "Table of Contents",
   "title_sidebar": "Contents",
   "toc_cell": false,
   "toc_position": {},
   "toc_section_display": true,
   "toc_window_display": true
  },
  "varInspector": {
   "cols": {
    "lenName": 16,
    "lenType": 16,
    "lenVar": 40
   },
   "kernels_config": {
    "python": {
     "delete_cmd_postfix": "",
     "delete_cmd_prefix": "del ",
     "library": "var_list.py",
     "varRefreshCmd": "print(var_dic_list())"
    },
    "r": {
     "delete_cmd_postfix": ") ",
     "delete_cmd_prefix": "rm(",
     "library": "var_list.r",
     "varRefreshCmd": "cat(var_dic_list()) "
    }
   },
   "types_to_exclude": [
    "module",
    "function",
    "builtin_function_or_method",
    "instance",
    "_Feature"
   ],
   "window_display": false
  }
 },
 "nbformat": 4,
 "nbformat_minor": 5
}
